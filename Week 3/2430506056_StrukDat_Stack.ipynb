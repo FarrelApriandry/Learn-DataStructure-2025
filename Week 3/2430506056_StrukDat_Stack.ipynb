{
  "nbformat": 4,
  "nbformat_minor": 0,
  "metadata": {
    "colab": {
      "provenance": []
    },
    "kernelspec": {
      "name": "python3",
      "display_name": "Python 3"
    },
    "language_info": {
      "name": "python"
    }
  },
  "cells": [
    {
      "cell_type": "code",
      "execution_count": null,
      "metadata": {
        "colab": {
          "base_uri": "https://localhost:8080/"
        },
        "id": "ZU3fsjz_iGLS",
        "outputId": "2e7202c8-f97b-4135-9cb6-75bf31dc8bcc"
      },
      "outputs": [
        {
          "output_type": "stream",
          "name": "stdout",
          "text": [
            "10\n",
            "5\n",
            "Stack is empty!\n"
          ]
        }
      ],
      "source": [
        "class Stack:\n",
        "    def __init__(self):\n",
        "        self.stack = []\n",
        "\n",
        "    def push(self, item):\n",
        "        self.stack.append(item)\n",
        "\n",
        "    def pop(self):\n",
        "        return self.stack.pop() if self.stack else \"Stack is empty!\"\n",
        "\n",
        "# Example Usage\n",
        "s = Stack()\n",
        "s.push(5)\n",
        "s.push(10)\n",
        "print(s.pop())  # Output: 10\n",
        "print(s.pop())  # Output: 5\n",
        "print(s.pop())  # Output: Stack is empty!"
      ]
    },
    {
      "cell_type": "code",
      "source": [
        "class Stack:\n",
        "    def __init__(self):\n",
        "        self.stack = []\n",
        "\n",
        "    def push(self, item):\n",
        "        self.stack.append(item)\n",
        "        print(f\"Pushed {item} into stack.\")\n",
        "\n",
        "    def display(self):\n",
        "        print(\"Current Stack:\", self.stack)\n",
        "\n",
        "s = Stack()\n",
        "s.push(10)\n",
        "s.push(20)\n",
        "s.display()"
      ],
      "metadata": {
        "colab": {
          "base_uri": "https://localhost:8080/"
        },
        "id": "Ide7o2CxjKQL",
        "outputId": "d376ac9f-20ac-4ec8-8c91-e480b61cfa15"
      },
      "execution_count": null,
      "outputs": [
        {
          "output_type": "stream",
          "name": "stdout",
          "text": [
            "Pushed 10 into stack.\n",
            "Pushed 20 into stack.\n",
            "Current Stack: [10, 20]\n"
          ]
        }
      ]
    },
    {
      "cell_type": "code",
      "source": [
        "class Stack:\n",
        "    def __init__(self):\n",
        "        self.stack = []\n",
        "\n",
        "    def push(self, item):\n",
        "        self.stack.append(item)\n",
        "\n",
        "    def pop(self):\n",
        "        if not self.stack:\n",
        "            return \"Stack is empty!\"\n",
        "        return f\"Popped {self.stack.pop()}\"\n",
        "\n",
        "    def display(self):\n",
        "        print(\"Current Stack:\", self.stack)\n",
        "\n",
        "s = Stack()\n",
        "s.push(10)\n",
        "s.push(20)\n",
        "print(s.pop())\n",
        "s.display()"
      ],
      "metadata": {
        "colab": {
          "base_uri": "https://localhost:8080/"
        },
        "id": "tIXcAxgMjNJ9",
        "outputId": "3060ee04-d56f-4040-8e6e-c07d09a9ea8f"
      },
      "execution_count": null,
      "outputs": [
        {
          "output_type": "stream",
          "name": "stdout",
          "text": [
            "Popped 20\n",
            "Current Stack: [10]\n"
          ]
        }
      ]
    },
    {
      "cell_type": "code",
      "source": [
        "class Stack:\n",
        "    def __init__(self):\n",
        "        self.stack = []\n",
        "\n",
        "    def push(self, item):\n",
        "        self.stack.append(item)\n",
        "\n",
        "    def peek(self):\n",
        "        if not self.stack:\n",
        "            return \"Stack is empty!\"\n",
        "        return f\"Top element: {self.stack[-1]}\"\n",
        "\n",
        "s = Stack()\n",
        "s.push(10)\n",
        "s.push(20)\n",
        "print(s.peek())\n"
      ],
      "metadata": {
        "colab": {
          "base_uri": "https://localhost:8080/"
        },
        "id": "oN7NpUvvjQrU",
        "outputId": "0ac0ee9a-51ba-49d8-eb3d-e7d2b1d8a668"
      },
      "execution_count": null,
      "outputs": [
        {
          "output_type": "stream",
          "name": "stdout",
          "text": [
            "Top element: 20\n"
          ]
        }
      ]
    },
    {
      "cell_type": "code",
      "source": [
        "class Stack:\n",
        "    def __init__(self):\n",
        "        self.stack = []\n",
        "\n",
        "    def is_empty(self):\n",
        "        return len(self.stack) == 0\n",
        "\n",
        "s = Stack()\n",
        "print(s.is_empty())  # True\n",
        "s.stack.append(10)\n",
        "print(s.is_empty())  # False\n"
      ],
      "metadata": {
        "colab": {
          "base_uri": "https://localhost:8080/"
        },
        "id": "74aJ6FZsjTCA",
        "outputId": "a04a6f5d-6531-4091-ccb5-4d6b73d4c00f"
      },
      "execution_count": null,
      "outputs": [
        {
          "output_type": "stream",
          "name": "stdout",
          "text": [
            "True\n",
            "False\n"
          ]
        }
      ]
    },
    {
      "cell_type": "code",
      "source": [
        "class Stack:\n",
        "    def __init__(self):\n",
        "        self.stack = []\n",
        "\n",
        "    def push(self, item):\n",
        "        self.stack.append(item)\n",
        "\n",
        "    def size(self):\n",
        "        return f\"Stack size: {len(self.stack)}\"\n",
        "\n",
        "s = Stack()\n",
        "s.push(10)\n",
        "s.push(20)\n",
        "s.push(30)\n",
        "print(s.size())"
      ],
      "metadata": {
        "colab": {
          "base_uri": "https://localhost:8080/"
        },
        "id": "fnpzZa3YkCCg",
        "outputId": "a4ce9004-6d90-41b3-867a-67e5c99db623"
      },
      "execution_count": null,
      "outputs": [
        {
          "output_type": "stream",
          "name": "stdout",
          "text": [
            "Stack size: 3\n"
          ]
        }
      ]
    },
    {
      "cell_type": "markdown",
      "source": [
        "# **Excersise**"
      ],
      "metadata": {
        "id": "LkfMXVuIkJzN"
      }
    },
    {
      "cell_type": "markdown",
      "source": [
        "## **Exercise 1**"
      ],
      "metadata": {
        "id": "2U6cJAzNkMAa"
      }
    },
    {
      "cell_type": "code",
      "source": [
        "class Calculator:\n",
        "    def __init__(self, initial_value):\n",
        "        self.history = []\n",
        "        self.current_value = initial_value\n",
        "\n",
        "    def operate(self, operator, number):\n",
        "        if operator == '+':\n",
        "            self.history.append(self.current_value)\n",
        "            self.current_value += number\n",
        "        elif operator == '-':\n",
        "            self.history.append(self.current_value)\n",
        "            self.current_value -= number\n",
        "        elif operator == '*':\n",
        "            self.history.append(self.current_value)\n",
        "            self.current_value *= number\n",
        "        elif operator == '/':\n",
        "            if number == 0:\n",
        "                print(\"Error: Division by zero is not allowed!\")\n",
        "                return\n",
        "            self.history.append(self.current_value)\n",
        "            self.current_value /= number\n",
        "        else:\n",
        "            print(\"Invalid operator!\")\n",
        "            return\n",
        "\n",
        "        print(f\"Operation: {operator} {number}, Current Value: {self.current_value}\")\n",
        "\n",
        "    def undo(self):\n",
        "        if not self.history:\n",
        "            print(\"No operations to undo!\")\n",
        "            return\n",
        "        self.current_value = self.history.pop()\n",
        "        print(f\"Undo operation, Current Value: {self.current_value}\")\n",
        "\n",
        "initial_value = int(input(\"Enter initial value: \"))\n",
        "calc = Calculator(initial_value)\n",
        "\n",
        "while True:\n",
        "    action = input(\"Enter operation (+, -, *, /) or 'undo' to undo, or 'exit' to quit: \").strip()\n",
        "\n",
        "    if action == 'exit':\n",
        "        break\n",
        "    elif action == 'undo':\n",
        "        calc.undo()\n",
        "    else:\n",
        "        try:\n",
        "            number = float(input(\"Enter a number: \"))\n",
        "            calc.operate(action, number)\n",
        "        except ValueError:\n",
        "            print(\"Invalid input! Please enter a valid number.\")\n"
      ],
      "metadata": {
        "id": "aR4sf2GZkVL8",
        "colab": {
          "base_uri": "https://localhost:8080/"
        },
        "outputId": "881a2eb1-93a9-43ab-b962-7627d29082ea"
      },
      "execution_count": 14,
      "outputs": [
        {
          "name": "stdout",
          "output_type": "stream",
          "text": [
            "Enter initial value: 56\n",
            "Enter operation (+, -, *, /) or 'undo' to undo, or 'exit' to quit: +\n",
            "Enter a number: 57\n",
            "Operation: + 57.0, Current Value: 113.0\n",
            "Enter operation (+, -, *, /) or 'undo' to undo, or 'exit' to quit: -\n",
            "Enter a number: 55\n",
            "Operation: - 55.0, Current Value: 58.0\n",
            "Enter operation (+, -, *, /) or 'undo' to undo, or 'exit' to quit: undo\n",
            "Undo operation, Current Value: 113.0\n",
            "Enter operation (+, -, *, /) or 'undo' to undo, or 'exit' to quit: undo\n",
            "Undo operation, Current Value: 56\n",
            "Enter operation (+, -, *, /) or 'undo' to undo, or 'exit' to quit: exit\n"
          ]
        }
      ]
    },
    {
      "cell_type": "code",
      "source": [
        "class NavigationHistory:\n",
        "    def __init__(self):\n",
        "        self.history = []\n",
        "        self.forward_stack = []\n",
        "\n",
        "    def visit_feature(self, feature_name):\n",
        "        self.history.append(feature_name)\n",
        "        self.forward_stack.clear()\n",
        "        print(f\"Visited: {feature_name}\")\n",
        "\n",
        "    def go_back(self):\n",
        "        if len(self.history) > 1:\n",
        "            last_feature = self.history.pop()\n",
        "            self.forward_stack.append(last_feature)\n",
        "            print(f\"Back to: {self.history[-1]}\")\n",
        "        else:\n",
        "            print(\"No previous feature to go back to!\")\n",
        "\n",
        "    def go_forward(self):\n",
        "        if self.forward_stack:\n",
        "            next_feature = self.forward_stack.pop()\n",
        "            self.history.append(next_feature)\n",
        "            print(f\"Forward to: {next_feature}\")\n",
        "        else:\n",
        "            print(\"No forward history available!\")\n",
        "\n",
        "    def show_history(self):\n",
        "        print(\"\\nNavigation History:\", \" -> \".join(self.history))\n",
        "        if self.forward_stack:\n",
        "            print(\"Forward Stack:\", \" -> \".join(self.forward_stack))\n",
        "        print()\n",
        "\n",
        "\n",
        "nav = NavigationHistory()\n",
        "\n",
        "nav.visit_feature(\"A56-1\")\n",
        "nav.visit_feature(\"A56-2\")\n",
        "nav.visit_feature(\"A56-3\")\n",
        "\n",
        "while True:\n",
        "    nav.show_history()\n",
        "    action = input(\"Choose action: (B)ack, (F)orward, (E)xit: \").strip().lower()\n",
        "\n",
        "    if action == \"b\":\n",
        "        nav.go_back()\n",
        "    elif action == \"f\":\n",
        "        nav.go_forward()\n",
        "    elif action == \"e\":\n",
        "        print(\"Exiting navigation history.\")\n",
        "        break\n",
        "    else:\n",
        "        print(\"Invalid choice! Please enter B, F, or E.\")\n"
      ],
      "metadata": {
        "colab": {
          "base_uri": "https://localhost:8080/"
        },
        "id": "RZVrfv7x9jH1",
        "outputId": "b61dc568-e8d4-4412-bf12-933721fe4a71"
      },
      "execution_count": null,
      "outputs": [
        {
          "output_type": "stream",
          "name": "stdout",
          "text": [
            "Visited: A56-1\n",
            "Visited: A56-2\n",
            "Visited: A56-3\n",
            "\n",
            "Navigation History: A56-1 -> A56-2 -> A56-3\n",
            "\n",
            "Choose action: (B)ack, (F)orward, (E)xit: f\n",
            "No forward history available!\n",
            "\n",
            "Navigation History: A56-1 -> A56-2 -> A56-3\n",
            "\n",
            "Choose action: (B)ack, (F)orward, (E)xit: f\n",
            "No forward history available!\n",
            "\n",
            "Navigation History: A56-1 -> A56-2 -> A56-3\n",
            "\n",
            "Choose action: (B)ack, (F)orward, (E)xit: b\n",
            "Back to: A56-2\n",
            "\n",
            "Navigation History: A56-1 -> A56-2\n",
            "Forward Stack: A56-3\n",
            "\n",
            "Choose action: (B)ack, (F)orward, (E)xit: e\n",
            "Exiting navigation history.\n"
          ]
        }
      ]
    },
    {
      "cell_type": "code",
      "source": [
        "class EmailDraftStack:\n",
        "    def __init__(self):\n",
        "        self.stack = []\n",
        "\n",
        "    def save_draft(self, subject, content):\n",
        "        self.stack.append((subject, content))\n",
        "        print(f\"Draft '{subject}' saved.\")\n",
        "\n",
        "    def view_last_draft(self):\n",
        "        if self.stack:\n",
        "            subject, content = self.stack[-1]\n",
        "            print(f\"Last Draft - Subject: {subject}\\nContent: {content}\")\n",
        "        else:\n",
        "            print(\"No drafts available.\")\n",
        "\n",
        "    def delete_last_draft(self):\n",
        "        if self.stack:\n",
        "            deleted_draft = self.stack.pop()\n",
        "            print(f\"Draft '{deleted_draft[0]}' deleted.\")\n",
        "        else:\n",
        "            print(\"No drafts to delete.\")\n",
        "\n",
        "    def show_all_drafts(self):\n",
        "        if self.stack:\n",
        "            print(\"\\nAll Drafts:\")\n",
        "            for idx, (subject, content) in enumerate(self.stack, start=1):\n",
        "                print(f\"{idx}. {subject}: {content}\")\n",
        "        else:\n",
        "            print(\"No drafts saved.\")\n",
        "\n",
        "def main():\n",
        "    email_stack = EmailDraftStack()\n",
        "    while True:\n",
        "        print(\"\\nEmail Draft System\")\n",
        "        print(\"1. Save a new draft\")\n",
        "        print(\"2. View last draft\")\n",
        "        print(\"3. Delete last draft\")\n",
        "        print(\"4. Show all drafts\")\n",
        "        print(\"5. Exit\")\n",
        "        choice = input(\"Choose an option: \")\n",
        "\n",
        "        if choice == \"1\":\n",
        "            subject = input(\"Enter subject: \")\n",
        "            content = input(\"Enter email content: \")\n",
        "            email_stack.save_draft(subject, content)\n",
        "        elif choice == \"2\":\n",
        "            email_stack.view_last_draft()\n",
        "        elif choice == \"3\":\n",
        "            email_stack.delete_last_draft()\n",
        "        elif choice == \"4\":\n",
        "            email_stack.show_all_drafts()\n",
        "        elif choice == \"5\":\n",
        "            print(\"Exiting...\\n\")\n",
        "            break\n",
        "        else:\n",
        "            print(\"Invalid choice. Please try again.\")\n",
        "\n",
        "if __name__ == \"__main__\":\n",
        "    main()"
      ],
      "metadata": {
        "colab": {
          "base_uri": "https://localhost:8080/"
        },
        "id": "KNo18fQ2-6oK",
        "outputId": "4ac82a2f-b139-4e68-9ddd-bcbeb9d6c296"
      },
      "execution_count": null,
      "outputs": [
        {
          "output_type": "stream",
          "name": "stdout",
          "text": [
            "\n",
            "Email Draft System\n",
            "1. Save a new draft\n",
            "2. View last draft\n",
            "3. Delete last draft\n",
            "4. Show all drafts\n",
            "5. Exit\n",
            "Choose an option: 1\n",
            "Enter subject: NA57\n",
            "Enter email content: Nabila\n",
            "Draft 'NA57' saved.\n",
            "\n",
            "Email Draft System\n",
            "1. Save a new draft\n",
            "2. View last draft\n",
            "3. Delete last draft\n",
            "4. Show all drafts\n",
            "5. Exit\n",
            "Choose an option: 1\n",
            "Enter subject: ZU58\n",
            "Enter email content: Zurich\n",
            "Draft 'ZU58' saved.\n",
            "\n",
            "Email Draft System\n",
            "1. Save a new draft\n",
            "2. View last draft\n",
            "3. Delete last draft\n",
            "4. Show all drafts\n",
            "5. Exit\n",
            "Choose an option: 1\n",
            "Enter subject: ER59\n",
            "Enter email content: Erlyn\n",
            "Draft 'ER59' saved.\n",
            "\n",
            "Email Draft System\n",
            "1. Save a new draft\n",
            "2. View last draft\n",
            "3. Delete last draft\n",
            "4. Show all drafts\n",
            "5. Exit\n",
            "Choose an option: 4\n",
            "\n",
            "All Drafts:\n",
            "1. NA57: Nabila\n",
            "2. ZU58: Zurich\n",
            "3. ER59: Erlyn\n",
            "\n",
            "Email Draft System\n",
            "1. Save a new draft\n",
            "2. View last draft\n",
            "3. Delete last draft\n",
            "4. Show all drafts\n",
            "5. Exit\n",
            "Choose an option: 2\n",
            "Last Draft - Subject: ER59\n",
            "Content: Erlyn\n",
            "\n",
            "Email Draft System\n",
            "1. Save a new draft\n",
            "2. View last draft\n",
            "3. Delete last draft\n",
            "4. Show all drafts\n",
            "5. Exit\n",
            "Choose an option: 5\n",
            "Exiting...\n",
            "\n"
          ]
        }
      ]
    },
    {
      "cell_type": "code",
      "source": [
        "class TicketQueue:\n",
        "    def __init__(self):\n",
        "        self.stack = []\n",
        "\n",
        "    def buy_ticket(self, name, movie):\n",
        "        self.stack.append((name, movie))\n",
        "        print(f\"Ticket purchased for {name} - {movie}\")\n",
        "\n",
        "    def process_ticket(self):\n",
        "        if not self.stack:\n",
        "            print(\"No tickets to process!\")\n",
        "        else:\n",
        "            name, movie = self.stack.pop()\n",
        "            print(f\"Processing ticket for {name} - {movie}\")\n",
        "\n",
        "    def view_next_ticket(self):\n",
        "        if not self.stack:\n",
        "            print(\"No tickets in queue!\")\n",
        "        else:\n",
        "            name, movie = self.stack[-1]\n",
        "            print(f\"Next ticket: {name} - {movie}\")\n",
        "\n",
        "    def list_tickets(self):\n",
        "        if not self.stack:\n",
        "            print(\"No tickets purchased yet!\")\n",
        "        else:\n",
        "            print(\"Tickets in queue:\")\n",
        "            for i, (name, movie) in enumerate(reversed(self.stack), 1):\n",
        "                print(f\"{i}. {name} - {movie}\")\n",
        "\n",
        "queue = TicketQueue()\n",
        "\n",
        "while True:\n",
        "    print(\"\\n1. Buy Ticket\")\n",
        "    print(\"2. Process Ticket\")\n",
        "    print(\"3. View Next Ticket\")\n",
        "    print(\"4. List All Tickets\")\n",
        "    print(\"5. Exit\")\n",
        "    choice = input(\"Choose an option: \")\n",
        "\n",
        "    if choice == \"1\":\n",
        "        name = input(\"Enter customer name: \")\n",
        "        movie = \"A56\"  # 'A' from April + '56' from NPM\n",
        "        queue.buy_ticket(name, movie)\n",
        "    elif choice == \"2\":\n",
        "        queue.process_ticket()\n",
        "    elif choice == \"3\":\n",
        "        queue.view_next_ticket()\n",
        "    elif choice == \"4\":\n",
        "        queue.list_tickets()\n",
        "    elif choice == \"5\":\n",
        "        break\n",
        "    else:\n",
        "        print(\"Invalid option, try again!\")\n"
      ],
      "metadata": {
        "colab": {
          "base_uri": "https://localhost:8080/"
        },
        "id": "tATuvdNLBiLv",
        "outputId": "ff9f97fa-1bf2-4c62-b790-5c8346767819"
      },
      "execution_count": 12,
      "outputs": [
        {
          "name": "stdout",
          "output_type": "stream",
          "text": [
            "\n",
            "1. Buy Ticket\n",
            "2. Process Ticket\n",
            "3. View Next Ticket\n",
            "4. List All Tickets\n",
            "5. Exit\n",
            "Ticket purchased for A56 - A56\n",
            "\n",
            "1. Buy Ticket\n",
            "2. Process Ticket\n",
            "3. View Next Ticket\n",
            "4. List All Tickets\n",
            "5. Exit\n",
            "Ticket purchased for M57 - A56\n",
            "\n",
            "1. Buy Ticket\n",
            "2. Process Ticket\n",
            "3. View Next Ticket\n",
            "4. List All Tickets\n",
            "5. Exit\n",
            "Ticket purchased for J58 - A56\n",
            "\n",
            "1. Buy Ticket\n",
            "2. Process Ticket\n",
            "3. View Next Ticket\n",
            "4. List All Tickets\n",
            "5. Exit\n",
            "Tickets in queue:\n",
            "1. J58 - A56\n",
            "2. M57 - A56\n",
            "3. A56 - A56\n",
            "\n",
            "1. Buy Ticket\n",
            "2. Process Ticket\n",
            "3. View Next Ticket\n",
            "4. List All Tickets\n",
            "5. Exit\n",
            "Choose an option: 5\n"
          ]
        }
      ]
    },
    {
      "cell_type": "markdown",
      "source": [
        "# **Task**"
      ],
      "metadata": {
        "id": "_HEO8VxpEJQ7"
      }
    },
    {
      "cell_type": "markdown",
      "source": [
        "## **Task 1**"
      ],
      "metadata": {
        "id": "ci_hSA3tEK76"
      }
    },
    {
      "cell_type": "code",
      "source": [
        "class Warehouse:\n",
        "    def __init__(self, max_capacity):\n",
        "        self.stack = []\n",
        "        self.max_capacity = max_capacity\n",
        "\n",
        "    def push(self, item):\n",
        "        if len(self.stack) >= self.max_capacity:\n",
        "            print(\"Warehouse is full! Cannot add more items.\")\n",
        "        else:\n",
        "            self.stack.append(item)\n",
        "            print(f\"Added '{item}' to the warehouse.\")\n",
        "\n",
        "    def pop(self):\n",
        "        if not self.stack:\n",
        "            print(\"Warehouse is empty! No items to remove.\")\n",
        "        else:\n",
        "            removed_item = self.stack.pop()\n",
        "            print(f\"Removed '{removed_item}' from the warehouse.\")\n",
        "\n",
        "    def display(self):\n",
        "        if not self.stack:\n",
        "            print(\"Warehouse is empty.\")\n",
        "        else:\n",
        "            print(\"Current items in the warehouse (top to bottom):\")\n",
        "            for item in reversed(self.stack):\n",
        "                print(item)\n",
        "\n",
        "def main():\n",
        "    max_items = 56\n",
        "    warehouse = Warehouse(max_items)\n",
        "\n",
        "    while True:\n",
        "        print(\"\\nOptions: push (add item), pop (remove item), display (show items), capacity (storage capacity), exit (quit)\")\n",
        "        choice = input(\"Enter command: \").strip().lower()\n",
        "\n",
        "        if choice == \"push\":\n",
        "            item = input(\"Enter item name: \").strip()\n",
        "            warehouse.push(item)\n",
        "        elif choice == \"pop\":\n",
        "            warehouse.pop()\n",
        "        elif choice == \"display\":\n",
        "            warehouse.display()\n",
        "        elif choice == \"capacity\":\n",
        "            print(f\"Warehouse Storage Capacity: {warehouse.max_capacity} items\")\n",
        "        elif choice == \"exit\":\n",
        "            print(\"Exiting the warehouse system.\")\n",
        "            break\n",
        "        else:\n",
        "            print(\"Invalid command! Please enter a valid option.\")\n",
        "\n",
        "if __name__ == \"__main__\":\n",
        "    main()\n"
      ],
      "metadata": {
        "colab": {
          "base_uri": "https://localhost:8080/"
        },
        "id": "Fr5V1VwbEM0k",
        "outputId": "d3306df0-731b-49f4-9251-4eee2b41b9e0"
      },
      "execution_count": 27,
      "outputs": [
        {
          "output_type": "stream",
          "name": "stdout",
          "text": [
            "\n",
            "Options: push (add item), pop (remove item), display (show items), capacity (storage capacity), exit (quit)\n",
            "Enter command: capcity\n",
            "Invalid command! Please enter a valid option.\n",
            "\n",
            "Options: push (add item), pop (remove item), display (show items), capacity (storage capacity), exit (quit)\n",
            "Enter command: capacity\n",
            "Warehouse Storage Capacity: 56 items\n",
            "\n",
            "Options: push (add item), pop (remove item), display (show items), capacity (storage capacity), exit (quit)\n",
            "Enter command: push\n",
            "Enter item name: Copri\n",
            "Added 'Copri' to the warehouse.\n",
            "\n",
            "Options: push (add item), pop (remove item), display (show items), capacity (storage capacity), exit (quit)\n",
            "Enter command: push\n",
            "Enter item name: Ptera\n",
            "Added 'Ptera' to the warehouse.\n",
            "\n",
            "Options: push (add item), pop (remove item), display (show items), capacity (storage capacity), exit (quit)\n",
            "Enter command: push\n",
            "Enter item name: komodo\n",
            "Added 'komodo' to the warehouse.\n",
            "\n",
            "Options: push (add item), pop (remove item), display (show items), capacity (storage capacity), exit (quit)\n",
            "Enter command: push\n",
            "Enter item name: tyrano\n",
            "Added 'tyrano' to the warehouse.\n",
            "\n",
            "Options: push (add item), pop (remove item), display (show items), capacity (storage capacity), exit (quit)\n",
            "Enter command: display\n",
            "Current items in the warehouse (top to bottom):\n",
            "tyrano\n",
            "komodo\n",
            "Ptera\n",
            "Copri\n",
            "\n",
            "Options: push (add item), pop (remove item), display (show items), capacity (storage capacity), exit (quit)\n",
            "Enter command: pop\n",
            "Removed 'tyrano' from the warehouse.\n",
            "\n",
            "Options: push (add item), pop (remove item), display (show items), capacity (storage capacity), exit (quit)\n",
            "Enter command: pop\n",
            "Removed 'komodo' from the warehouse.\n",
            "\n",
            "Options: push (add item), pop (remove item), display (show items), capacity (storage capacity), exit (quit)\n",
            "Enter command: display\n",
            "Current items in the warehouse (top to bottom):\n",
            "Ptera\n",
            "Copri\n",
            "\n",
            "Options: push (add item), pop (remove item), display (show items), capacity (storage capacity), exit (quit)\n",
            "Enter command: exit\n",
            "Exiting the warehouse system.\n"
          ]
        }
      ]
    }
  ]
}