{
  "nbformat": 4,
  "nbformat_minor": 0,
  "metadata": {
    "colab": {
      "provenance": []
    },
    "kernelspec": {
      "name": "python3",
      "display_name": "Python 3"
    },
    "language_info": {
      "name": "python"
    }
  },
  "cells": [
    {
      "cell_type": "code",
      "execution_count": 1,
      "metadata": {
        "colab": {
          "base_uri": "https://localhost:8080/"
        },
        "id": "PEDTgTeLEUTV",
        "outputId": "5de81b42-c083-448c-841a-308a943da461"
      },
      "outputs": [
        {
          "output_type": "stream",
          "name": "stdout",
          "text": [
            "Selamat datang di Treasure Hunt! Peta memiliki 10 lokasi (0 hingga 9).\n",
            "Masukkan lokasi harta karun (0-9) :4\n",
            "\n",
            "Harta Karun telah disembunyikan! Sekarang giliran pemain menebak.\n",
            "Cobalah untuk menemukan harta karun dengan menebak indeks yang benar.\n",
            "\n",
            "Peta saat ini:  ['_', '_', '_', '_', '_', '_', '_', '_', '_', '_']\n",
            "Masukkan indeks tebakanmu (0-9): 1\n",
            "Tidak ada harta di lokasi ini. Coba lagi!\n",
            "\n",
            "Peta saat ini:  ['_', '_', '_', '_', '_', '_', '_', '_', '_', '_']\n",
            "Masukkan indeks tebakanmu (0-9): 2\n",
            "Tidak ada harta di lokasi ini. Coba lagi!\n",
            "\n",
            "Peta saat ini:  ['_', '_', '_', '_', '_', '_', '_', '_', '_', '_']\n",
            "Masukkan indeks tebakanmu (0-9): 3\n",
            "Tidak ada harta di lokasi ini. Coba lagi!\n",
            "\n",
            "Peta saat ini:  ['_', '_', '_', '_', '_', '_', '_', '_', '_', '_']\n",
            "Masukkan indeks tebakanmu (0-9): 5\n",
            "Tidak ada harta di lokasi ini. Coba lagi!\n",
            "\n",
            "Peta saat ini:  ['_', '_', '_', '_', '_', '_', '_', '_', '_', '_']\n",
            "Masukkan indeks tebakanmu (0-9): 4\n",
            "Selamat! Kamu menemukan harta karun di lokasi: 4\n",
            "Terima kasih sudah bermain!\n"
          ]
        }
      ],
      "source": [
        "size = 10\n",
        "\n",
        "treasure_map = [\"_\" for _ in range(size)]\n",
        "\n",
        "print(f\"Selamat datang di Treasure Hunt! Peta memiliki {size} lokasi (0 hingga {size-1}).\")\n",
        "\n",
        "treasure_index = int(input(f\"Masukkan lokasi harta karun (0-{size-1}) :\"))\n",
        "while treasure_index < 0 or treasure_index >= size:\n",
        "    print(\"Lokasi tidak valid. Silakan coba lagi.\")\n",
        "    treasure_index = int(input(f\"Masukkan lokasi harta karun (0-{size-1}) :\"))\n",
        "\n",
        "treasure_map[treasure_index] = \"X\"\n",
        "\n",
        "def play_treasure_hunt():\n",
        "  print(\"\\nHarta Karun telah disembunyikan! Sekarang giliran pemain menebak.\")\n",
        "  print(\"Cobalah untuk menemukan harta karun dengan menebak indeks yang benar.\")\n",
        "\n",
        "  while True:\n",
        "    print(\"\\nPeta saat ini: \", [\"_\" for _ in range(size)])\n",
        "\n",
        "    try:\n",
        "      guess = int(input(f\"Masukkan indeks tebakanmu (0-{size-1}): \"))\n",
        "    except ValueError:\n",
        "      print(\"Masukkan angka yang valid!\")\n",
        "      continue\n",
        "    if guess < 0 or guess >= size:\n",
        "      print(\"Indeks tidak valid, pilih anatara 0 hingga\", size-1)\n",
        "      continue\n",
        "    if treasure_map[guess] == \"X\":\n",
        "      print(\"Selamat! Kamu menemukan harta karun di lokasi:\", guess)\n",
        "      break\n",
        "    else:\n",
        "      print(\"Tidak ada harta di lokasi ini. Coba lagi!\")\n",
        "\n",
        "  print(\"Terima kasih sudah bermain!\")\n",
        "\n",
        "play_treasure_hunt()"
      ]
    },
    {
      "cell_type": "code",
      "source": [
        "def play_treasure_hunt(size, treasure_map):\n",
        "    print(\"\\nHarta Karun telah disembunyikan! Sekarang giliran pemain menebak.\")\n",
        "    while True:\n",
        "        print(\"\\nPeta saat ini:\", [\"_\"] * size)\n",
        "        guess = int(input(f\"Masukkan indeks tebakanmu (0-{size-1}): \"))\n",
        "        if guess < 0 or guess >= size:\n",
        "            print(\"Indeks tidak valid, pilih antara 0 hingga\", size-1)\n",
        "            continue\n",
        "        if treasure_map[guess] == \"X\":\n",
        "            print(\"Selamat! Kamu menemukan harta karun di lokasi:\", guess)\n",
        "            break\n",
        "        else:\n",
        "            print(\"Tidak ada harta di lokasi ini. Coba lagi!\")\n",
        "    print(\"Terima kasih sudah bermain!\")\n",
        "\n",
        "size = int(input(\"Masukkan ukuran peta yang diinginkan (minimal 2): \"))\n",
        "while size < 2:\n",
        "    print(\"Ukuran peta harus minimal 2.\")\n",
        "    size = int(input(\"Masukkan ukuran peta yang diinginkan (minimal 2): \"))\n",
        "\n",
        "treasure_map = [\"_\"] * size\n",
        "print(f\"Selamat datang di Treasure Hunt! Peta memiliki {size} lokasi (0 hingga {size-1}).\")\n",
        "\n",
        "treasure_index = int(input(f\"Masukkan lokasi harta karun (0-{size-1}): \"))\n",
        "while treasure_index < 0 or treasure_index >= size:\n",
        "    print(\"Lokasi tidak valid. Silakan coba lagi.\")\n",
        "    treasure_index = int(input(f\"Masukkan lokasi harta karun (0-{size-1}): \"))\n",
        "\n",
        "treasure_map[treasure_index] = \"X\"\n",
        "\n",
        "play_treasure_hunt(size, treasure_map)\n"
      ],
      "metadata": {
        "colab": {
          "base_uri": "https://localhost:8080/"
        },
        "id": "M5eowXyrEcAJ",
        "outputId": "0e2908b3-fdeb-4950-c915-6b3d49f7ab76"
      },
      "execution_count": 2,
      "outputs": [
        {
          "output_type": "stream",
          "name": "stdout",
          "text": [
            "Masukkan ukuran peta yang diinginkan (minimal 2): 10\n",
            "Selamat datang di Treasure Hunt! Peta memiliki 10 lokasi (0 hingga 9).\n",
            "Masukkan lokasi harta karun (0-9): 1\n",
            "\n",
            "Harta Karun telah disembunyikan! Sekarang giliran pemain menebak.\n",
            "\n",
            "Peta saat ini: ['_', '_', '_', '_', '_', '_', '_', '_', '_', '_']\n",
            "Masukkan indeks tebakanmu (0-9): 4\n",
            "Tidak ada harta di lokasi ini. Coba lagi!\n",
            "\n",
            "Peta saat ini: ['_', '_', '_', '_', '_', '_', '_', '_', '_', '_']\n",
            "Masukkan indeks tebakanmu (0-9): 2\n",
            "Tidak ada harta di lokasi ini. Coba lagi!\n",
            "\n",
            "Peta saat ini: ['_', '_', '_', '_', '_', '_', '_', '_', '_', '_']\n",
            "Masukkan indeks tebakanmu (0-9): 3\n",
            "Tidak ada harta di lokasi ini. Coba lagi!\n",
            "\n",
            "Peta saat ini: ['_', '_', '_', '_', '_', '_', '_', '_', '_', '_']\n",
            "Masukkan indeks tebakanmu (0-9): 1\n",
            "Selamat! Kamu menemukan harta karun di lokasi: 1\n",
            "Terima kasih sudah bermain!\n"
          ]
        }
      ]
    },
    {
      "cell_type": "code",
      "source": [
        "import random\n",
        "\n",
        "def play_treasure_hunt(size, treasure_map):\n",
        "    print(\"\\nHarta Karun telah disembunyikan! Sekarang giliran pemain menebak.\")\n",
        "    while True:\n",
        "        print(\"\\nPeta saat ini:\", [\"_\"] * size)\n",
        "        guess = int(input(f\"Masukkan indeks tebakanmu (1-{size}): \")) - 1\n",
        "        if guess < 0 or guess >= size:\n",
        "            print(\"Indeks tidak valid, pilih antara 1 hingga\", size)\n",
        "            continue\n",
        "        if treasure_map[guess] == \"X\":\n",
        "            print(\"Selamat! Kamu menemukan harta karun di lokasi:\", guess + 1)\n",
        "            break\n",
        "        else:\n",
        "            print(\"Tidak ada harta di lokasi ini. Coba lagi!\")\n",
        "    print(\"Terima kasih sudah bermain!\")\n",
        "\n",
        "size = int(input(\"Masukkan ukuran peta yang diinginkan (minimal 2): \"))\n",
        "while size < 2:\n",
        "    print(\"Ukuran peta harus minimal 2.\")\n",
        "    size = int(input(\"Masukkan ukuran peta yang diinginkan (minimal 2): \"))\n",
        "\n",
        "treasure_map = [\"_\"] * size\n",
        "print(f\"Selamat datang di Treasure Hunt! Peta memiliki {size} lokasi (1 hingga {size}).\")\n",
        "\n",
        "treasure_index = random.randint(0, size - 1)\n",
        "print(f\"Harta karun telah disembunyikan secara otomatis!\")\n",
        "8\n",
        "treasure_map[treasure_index] = \"X\"\n",
        "\n",
        "play_treasure_hunt(size, treasure_map)"
      ],
      "metadata": {
        "colab": {
          "base_uri": "https://localhost:8080/"
        },
        "id": "zpxGUO9kEiiu",
        "outputId": "6d2d2bca-57fa-46e7-f721-da5228b0499f"
      },
      "execution_count": 5,
      "outputs": [
        {
          "output_type": "stream",
          "name": "stdout",
          "text": [
            "Masukkan ukuran peta yang diinginkan (minimal 2): 13\n",
            "Selamat datang di Treasure Hunt! Peta memiliki 13 lokasi (1 hingga 13).\n",
            "Harta karun telah disembunyikan secara otomatis!\n",
            "\n",
            "Harta Karun telah disembunyikan! Sekarang giliran pemain menebak.\n",
            "\n",
            "Peta saat ini: ['_', '_', '_', '_', '_', '_', '_', '_', '_', '_', '_', '_', '_']\n",
            "Masukkan indeks tebakanmu (1-13): 1\n",
            "Tidak ada harta di lokasi ini. Coba lagi!\n",
            "\n",
            "Peta saat ini: ['_', '_', '_', '_', '_', '_', '_', '_', '_', '_', '_', '_', '_']\n",
            "Masukkan indeks tebakanmu (1-13): 2\n",
            "Tidak ada harta di lokasi ini. Coba lagi!\n",
            "\n",
            "Peta saat ini: ['_', '_', '_', '_', '_', '_', '_', '_', '_', '_', '_', '_', '_']\n",
            "Masukkan indeks tebakanmu (1-13): 3\n",
            "Tidak ada harta di lokasi ini. Coba lagi!\n",
            "\n",
            "Peta saat ini: ['_', '_', '_', '_', '_', '_', '_', '_', '_', '_', '_', '_', '_']\n",
            "Masukkan indeks tebakanmu (1-13): 4\n",
            "Tidak ada harta di lokasi ini. Coba lagi!\n",
            "\n",
            "Peta saat ini: ['_', '_', '_', '_', '_', '_', '_', '_', '_', '_', '_', '_', '_']\n",
            "Masukkan indeks tebakanmu (1-13): 5\n",
            "Tidak ada harta di lokasi ini. Coba lagi!\n",
            "\n",
            "Peta saat ini: ['_', '_', '_', '_', '_', '_', '_', '_', '_', '_', '_', '_', '_']\n",
            "Masukkan indeks tebakanmu (1-13): 6\n",
            "Tidak ada harta di lokasi ini. Coba lagi!\n",
            "\n",
            "Peta saat ini: ['_', '_', '_', '_', '_', '_', '_', '_', '_', '_', '_', '_', '_']\n",
            "Masukkan indeks tebakanmu (1-13): 6\n",
            "Tidak ada harta di lokasi ini. Coba lagi!\n",
            "\n",
            "Peta saat ini: ['_', '_', '_', '_', '_', '_', '_', '_', '_', '_', '_', '_', '_']\n",
            "Masukkan indeks tebakanmu (1-13): 7\n",
            "Tidak ada harta di lokasi ini. Coba lagi!\n",
            "\n",
            "Peta saat ini: ['_', '_', '_', '_', '_', '_', '_', '_', '_', '_', '_', '_', '_']\n",
            "Masukkan indeks tebakanmu (1-13): 8\n",
            "Tidak ada harta di lokasi ini. Coba lagi!\n",
            "\n",
            "Peta saat ini: ['_', '_', '_', '_', '_', '_', '_', '_', '_', '_', '_', '_', '_']\n",
            "Masukkan indeks tebakanmu (1-13): 9\n",
            "Tidak ada harta di lokasi ini. Coba lagi!\n",
            "\n",
            "Peta saat ini: ['_', '_', '_', '_', '_', '_', '_', '_', '_', '_', '_', '_', '_']\n",
            "Masukkan indeks tebakanmu (1-13): 10\n",
            "Selamat! Kamu menemukan harta karun di lokasi: 10\n",
            "Terima kasih sudah bermain!\n"
          ]
        }
      ]
    }
  ]
}