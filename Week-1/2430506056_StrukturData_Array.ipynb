{
  "nbformat": 4,
  "nbformat_minor": 0,
  "metadata": {
    "colab": {
      "provenance": []
    },
    "kernelspec": {
      "name": "python3",
      "display_name": "Python 3"
    },
    "language_info": {
      "name": "python"
    }
  },
  "cells": [
    {
      "cell_type": "code",
      "source": [
        "numbers = [10, 20, 30, 40, 50]\n",
        "print(\"List:\", numbers)"
      ],
      "metadata": {
        "colab": {
          "base_uri": "https://localhost:8080/"
        },
        "id": "MN43zoiBu8ZF",
        "outputId": "a2e23d60-1cee-4c9d-a0a6-2423ba6ad3a0"
      },
      "execution_count": 9,
      "outputs": [
        {
          "output_type": "stream",
          "name": "stdout",
          "text": [
            "List: [10, 20, 30, 40, 50]\n"
          ]
        }
      ]
    },
    {
      "cell_type": "code",
      "source": [
        "numbers = [10, 20, 30, 40, 50]\n",
        "print(\"First element:\", numbers[0])\n",
        "print(\"Last element:\", numbers[-1])"
      ],
      "metadata": {
        "colab": {
          "base_uri": "https://localhost:8080/"
        },
        "id": "dyCp_N6VvNan",
        "outputId": "4ae7c66e-c0e2-4b8f-a7b1-e008db0ed0cc"
      },
      "execution_count": 12,
      "outputs": [
        {
          "output_type": "stream",
          "name": "stdout",
          "text": [
            "First element: 10\n",
            "Last element: 50\n"
          ]
        }
      ]
    },
    {
      "cell_type": "code",
      "source": [
        "numbers.append(60)  # Adds 60 to the end of the list\n",
        "print(\"After append:\", numbers)\n",
        "\n",
        "numbers.insert(2, 25)  # Inserts 25 at index 2\n",
        "print(\"After insert:\", numbers)"
      ],
      "metadata": {
        "colab": {
          "base_uri": "https://localhost:8080/"
        },
        "id": "VezpGnHqvnWV",
        "outputId": "720d3893-31f1-40e9-fab7-fd6ee017c727"
      },
      "execution_count": 13,
      "outputs": [
        {
          "output_type": "stream",
          "name": "stdout",
          "text": [
            "After append: [10, 20, 30, 40, 50, 60]\n",
            "After insert: [10, 20, 25, 30, 40, 50, 60]\n"
          ]
        }
      ]
    },
    {
      "cell_type": "code",
      "source": [
        "numbers.remove(25)  # Removes the first occurrence of 25\n",
        "print(\"After remove:\", numbers)\n",
        "\n",
        "numbers.pop(2)  # Removes the element at index 2\n",
        "print(\"After pop:\", numbers)"
      ],
      "metadata": {
        "colab": {
          "base_uri": "https://localhost:8080/"
        },
        "id": "HJh8jNRWv4uI",
        "outputId": "c06085ce-fdb3-4c72-bdf3-8c27b6999417"
      },
      "execution_count": 14,
      "outputs": [
        {
          "output_type": "stream",
          "name": "stdout",
          "text": [
            "After remove: [10, 20, 30, 40, 50, 60]\n",
            "After pop: [10, 20, 40, 50, 60]\n"
          ]
        }
      ]
    },
    {
      "cell_type": "code",
      "source": [
        "for num in numbers:\n",
        "    print(\"Number:\", num)"
      ],
      "metadata": {
        "colab": {
          "base_uri": "https://localhost:8080/"
        },
        "id": "fk3BoFWzwGOu",
        "outputId": "e6aa06f5-dc7d-4194-e837-db925d9d708b"
      },
      "execution_count": 5,
      "outputs": [
        {
          "output_type": "stream",
          "name": "stdout",
          "text": [
            "Number: 10\n",
            "Number: 20\n",
            "Number: 40\n",
            "Number: 50\n",
            "Number: 60\n"
          ]
        }
      ]
    },
    {
      "cell_type": "code",
      "source": [
        "import numpy as np\n",
        "\n",
        "# Creating a 2D array\n",
        "matrix = np.array([[1, 2, 3], [4, 5, 6], [7, 8, 9]])\n",
        "print(\"2D Array:\")\n",
        "print(matrix)\n",
        "\n",
        "# Accessing elements in a 2D array\n",
        "print(\"Element at row 1, column 2:\", matrix[1][2])  # Output: 6"
      ],
      "metadata": {
        "colab": {
          "base_uri": "https://localhost:8080/"
        },
        "id": "OTsyCwfIwp5f",
        "outputId": "ad896bf7-dd09-4e7b-9b87-df3abb090397"
      },
      "execution_count": 6,
      "outputs": [
        {
          "output_type": "stream",
          "name": "stdout",
          "text": [
            "2D Array:\n",
            "[[1 2 3]\n",
            " [4 5 6]\n",
            " [7 8 9]]\n",
            "Element at row 1, column 2: 6\n"
          ]
        }
      ]
    },
    {
      "cell_type": "code",
      "execution_count": null,
      "metadata": {
        "colab": {
          "base_uri": "https://localhost:8080/"
        },
        "id": "ZzjTHYImqPK8",
        "outputId": "f30ed874-84ce-4867-af10-4aacd0f98624"
      },
      "outputs": [
        {
          "output_type": "stream",
          "name": "stdout",
          "text": [
            "NPM = [2430506055, 2430506056, 2430506057, 2430506058, 2430506059]\n"
          ]
        }
      ],
      "source": [
        "NPM = [2430506055, 2430506056, 2430506057, 2430506058, 2430506059]\n",
        "\n",
        "print(\"NPM =\", NPM)"
      ]
    },
    {
      "cell_type": "code",
      "source": [
        "NPM[1] = 243050605620\n",
        "\n",
        "print(\"NPM =\", NPM)"
      ],
      "metadata": {
        "colab": {
          "base_uri": "https://localhost:8080/"
        },
        "id": "nmZaGsnOvUIM",
        "outputId": "f70af34a-eac9-4fce-95e9-c0361fc5f686"
      },
      "execution_count": null,
      "outputs": [
        {
          "output_type": "stream",
          "name": "stdout",
          "text": [
            "NPM = [2430506055, 243050605620, 2430506057, 2430506058, 2430506059]\n"
          ]
        }
      ]
    },
    {
      "cell_type": "code",
      "source": [
        "fakultas = [\"FKIP\", \"TEKNIK\", \"FISIPOL\", \"FE\", \"FAPERTA\"]\n",
        "\n",
        "for range in fakultas:\n",
        "  print(\"Fakultas: \", range)"
      ],
      "metadata": {
        "colab": {
          "base_uri": "https://localhost:8080/"
        },
        "id": "asn-9yzevvyU",
        "outputId": "642f06b3-2253-42c3-8677-15c52882e371"
      },
      "execution_count": null,
      "outputs": [
        {
          "output_type": "stream",
          "name": "stdout",
          "text": [
            "Fakultas:  FKIP\n",
            "Fakultas:  TEKNIK\n",
            "Fakultas:  FISIPOL\n",
            "Fakultas:  FE\n",
            "Fakultas:  FAPERTA\n"
          ]
        }
      ]
    },
    {
      "cell_type": "code",
      "source": [
        "harga_barang = [10000, 30000, 50000, 75000, 85000]\n",
        "\n",
        "print(\"Total harga barang:\", sum(harga_barang))"
      ],
      "metadata": {
        "colab": {
          "base_uri": "https://localhost:8080/"
        },
        "id": "WRMyyKB2wSns",
        "outputId": "f31cddd6-2b4c-44c5-d72a-b26cca6df175"
      },
      "execution_count": null,
      "outputs": [
        {
          "output_type": "stream",
          "name": "stdout",
          "text": [
            "Total harga barang: 250000\n"
          ]
        }
      ]
    },
    {
      "cell_type": "code",
      "source": [
        "matriks = [\n",
        "    [1, 2, 3],\n",
        "    [4, 5, 6],\n",
        "    [7, 8, 9],\n",
        "    [10, 11, 12]\n",
        "]\n",
        "\n",
        "for baris in matriks:\n",
        "  print(baris)"
      ],
      "metadata": {
        "colab": {
          "base_uri": "https://localhost:8080/"
        },
        "id": "zSyl-lO8xD4O",
        "outputId": "0426dff0-7094-4191-c40b-48387ab62f08"
      },
      "execution_count": 19,
      "outputs": [
        {
          "output_type": "stream",
          "name": "stdout",
          "text": [
            "[1, 2, 3]\n",
            "[4, 5, 6]\n",
            "[7, 8, 9]\n",
            "[10, 11, 12]\n"
          ]
        }
      ]
    },
    {
      "cell_type": "code",
      "source": [
        "print(\"Element at fourth collumn and second row is: \", matriks[3][1])"
      ],
      "metadata": {
        "colab": {
          "base_uri": "https://localhost:8080/"
        },
        "id": "4q7YZADYxctR",
        "outputId": "6970a3b7-a329-44dd-8271-f3f310e4cc51"
      },
      "execution_count": 20,
      "outputs": [
        {
          "output_type": "stream",
          "name": "stdout",
          "text": [
            "Element at fourth collumn and second row is:  11\n"
          ]
        }
      ]
    },
    {
      "cell_type": "code",
      "source": [
        "matriks.append([\"09\", \"04\", \"20\", \"06\"])\n",
        "\n",
        "for baris in matriks:\n",
        "  print(baris)"
      ],
      "metadata": {
        "colab": {
          "base_uri": "https://localhost:8080/"
        },
        "id": "AujAd91d4W13",
        "outputId": "ab03b6cb-432a-4d99-a53b-201284762410"
      },
      "execution_count": 21,
      "outputs": [
        {
          "output_type": "stream",
          "name": "stdout",
          "text": [
            "[1, 2, 3]\n",
            "[4, 5, 6]\n",
            "[7, 8, 9]\n",
            "[10, 11, 12]\n",
            "['09', '04', '20', '06']\n"
          ]
        }
      ]
    },
    {
      "cell_type": "code",
      "source": [
        "matriks[4].pop(2)"
      ],
      "metadata": {
        "colab": {
          "base_uri": "https://localhost:8080/",
          "height": 35
        },
        "id": "PcYXtShGAItN",
        "outputId": "7b21ebbd-cf3c-42ec-be9b-885c546a5201"
      },
      "execution_count": 22,
      "outputs": [
        {
          "output_type": "execute_result",
          "data": {
            "text/plain": [
              "'20'"
            ],
            "application/vnd.google.colaboratory.intrinsic+json": {
              "type": "string"
            }
          },
          "metadata": {},
          "execution_count": 22
        }
      ]
    },
    {
      "cell_type": "code",
      "source": [
        "for baris in matriks:\n",
        "  print(baris)"
      ],
      "metadata": {
        "colab": {
          "base_uri": "https://localhost:8080/"
        },
        "id": "Ke_6DM96AiEb",
        "outputId": "0a607c12-0dc3-46de-a688-9baef36f6c14"
      },
      "execution_count": null,
      "outputs": [
        {
          "output_type": "stream",
          "name": "stdout",
          "text": [
            "[1, 2, 3]\n",
            "[4, 5, 6]\n",
            "[7, 8, 9]\n",
            "[11, 12, 13]\n",
            "['09', '04', '06']\n"
          ]
        }
      ]
    },
    {
      "cell_type": "code",
      "source": [
        "matriks[4][2] = \"14\""
      ],
      "metadata": {
        "id": "5-nAadddAlP-"
      },
      "execution_count": 23,
      "outputs": []
    },
    {
      "cell_type": "code",
      "source": [
        "for baris in matriks:\n",
        "  print(baris)"
      ],
      "metadata": {
        "colab": {
          "base_uri": "https://localhost:8080/"
        },
        "id": "BRG-F_11A2OT",
        "outputId": "4d74dd49-89cb-4cf7-cedd-7befe3132308"
      },
      "execution_count": 24,
      "outputs": [
        {
          "output_type": "stream",
          "name": "stdout",
          "text": [
            "[1, 2, 3]\n",
            "[4, 5, 6]\n",
            "[7, 8, 9]\n",
            "[10, 11, 12]\n",
            "['09', '04', '14']\n"
          ]
        }
      ]
    },
    {
      "cell_type": "code",
      "source": [
        "print(\"============================\")\n",
        "print(\"Welcome to the grocery store\")\n",
        "print(\"============================\")\n",
        "print(\"\\n\")\n",
        "\n",
        "item = [\n",
        "    \"Trash Bag\",\n",
        "    \"Chocolate\",\n",
        "    \"Soft Drink\"\n",
        "]\n",
        "\n",
        "for i in item:\n",
        "  print(i)\n",
        "\n",
        "print(\"\\n\")\n",
        "print(\"=====================\")\n",
        "print(\"First Update Grocery Items\")\n",
        "print(\"=====================\")\n",
        "print(\"\\n\")\n",
        "\n",
        "item.append(\"Ice Cream\")\n",
        "\n",
        "for i in item:\n",
        "  print(i)\n",
        "\n",
        "item.remove(\"Trash Bag\")\n",
        "\n",
        "print(\"\\n\")\n",
        "print(\"=====================\")\n",
        "print(\"Second Update Grocery Items\")\n",
        "print(\"=====================\")\n",
        "print(\"\\n\")\n",
        "\n",
        "for i in item:\n",
        "  print(i)"
      ],
      "metadata": {
        "colab": {
          "base_uri": "https://localhost:8080/"
        },
        "id": "yJGvijm0A7iC",
        "outputId": "0edbd8f9-f90d-496a-dff1-2b761bf025ee"
      },
      "execution_count": 26,
      "outputs": [
        {
          "output_type": "stream",
          "name": "stdout",
          "text": [
            "============================\n",
            "Welcome to the grocery store\n",
            "============================\n",
            "\n",
            "\n",
            "Trash Bag\n",
            "Chocolate\n",
            "Soft Drink\n",
            "\n",
            "\n",
            "=====================\n",
            "First Update Grocery Items\n",
            "=====================\n",
            "\n",
            "\n",
            "Trash Bag\n",
            "Chocolate\n",
            "Soft Drink\n",
            "Ice Cream\n",
            "\n",
            "\n",
            "=====================\n",
            "Second Update Grocery Items\n",
            "=====================\n",
            "\n",
            "\n",
            "Chocolate\n",
            "Soft Drink\n",
            "Ice Cream\n"
          ]
        }
      ]
    },
    {
      "cell_type": "code",
      "source": [
        "size = 10\n",
        "\n",
        "treasure_map = [\"_\" for _ in range(size)]\n",
        "\n",
        "print(f\"Selamat datang di Treasure Hunt! Peta memiliki {size} lokasi (0 hingga {size-1}).\")\n",
        "\n",
        "treasure_index = int(input(f\"Masukkan lokasi harta karun (0-{size-1}) :\"))\n",
        "while treasure_index < 0 or treasure_index >= size:\n",
        "    print(\"Lokasi tidak valid. Silakan coba lagi.\")\n",
        "    treasure_index = int(input(f\"Masukkan lokasi harta karun (0-{size-1}) :\"))\n",
        "\n",
        "treasure_map[treasure_index] = \"X\"\n",
        "\n",
        "def play_treasure_hunt():\n",
        "  print(\"\\nHarta Karun telah disembunyikan! Sekarang giliran pemain menebak.\")\n",
        "  print(\"Cobalah untuk menemukan harta karun dengan menebak indeks yang benar.\")\n",
        "\n",
        "  while True:\n",
        "    print(\"\\nPeta saat ini: \", [\"_\" for _ in range(size)])\n",
        "\n",
        "    try:\n",
        "      guess = int(input(f\"Masukkan indeks tebakanmu (0-{size-1}): \"))\n",
        "    except ValueError:\n",
        "      print(\"Masukkan angka yang valid!\")\n",
        "      continue\n",
        "    if guess < 0 or guess >= size:\n",
        "      print(\"Indeks tidak valid, pilih anatara 0 hingga\", size-1)\n",
        "      continue\n",
        "    if treasure_map[guess] == \"X\":\n",
        "      print(\"Selamat! Kamu menemukan harta karun di lokasi:\", guess)\n",
        "      break\n",
        "    else:\n",
        "      print(\"Tidak ada harta di lokasi ini. Coba lagi!\")\n",
        "\n",
        "  print(\"Terima kasih sudah bermain!\")\n",
        "\n",
        "play_treasure_hunt()"
      ],
      "metadata": {
        "id": "ot5zON2sDVX5",
        "colab": {
          "base_uri": "https://localhost:8080/"
        },
        "outputId": "dfa2fee1-2c16-4fb2-e341-f2fc3764f0ac"
      },
      "execution_count": null,
      "outputs": [
        {
          "output_type": "stream",
          "name": "stdout",
          "text": [
            "Selamat datang di Treasure Hunt! Peta memiliki 10 lokasi (0 hingga 9).\n",
            "Masukkan lokasi harta karun (0-9) :3\n",
            "\n",
            "Harta Karun telah disembunyikan! Sekarang giliran pemain menebak.\n",
            "Cobalah untuk menemukan harta karun dengan menebak indeks yang benar.\n",
            "\n",
            "Peta saat ini:  ['_', '_', '_', '_', '_', '_', '_', '_', '_', '_']\n",
            "Masukkan indeks tebakanmu (0-9): 1\n",
            "Tidak ada harta di lokasi ini. Coba lagi!\n",
            "\n",
            "Peta saat ini:  ['_', '_', '_', '_', '_', '_', '_', '_', '_', '_']\n",
            "Masukkan indeks tebakanmu (0-9): 2\n",
            "Tidak ada harta di lokasi ini. Coba lagi!\n",
            "\n",
            "Peta saat ini:  ['_', '_', '_', '_', '_', '_', '_', '_', '_', '_']\n",
            "Masukkan indeks tebakanmu (0-9): 3\n",
            "Selamat! Kamu menemukan harta karun di lokasi: 3\n",
            "Terima kasih sudah bermain!\n"
          ]
        }
      ]
    },
    {
      "cell_type": "code",
      "source": [
        "def play_treasure_hunt(size, treasure_map):\n",
        "    print(\"\\nHarta Karun telah disembunyikan! Sekarang giliran pemain menebak.\")\n",
        "    while True:\n",
        "        print(\"\\nPeta saat ini:\", [\"_\"] * size)\n",
        "        guess = int(input(f\"Masukkan indeks tebakanmu (0-{size-1}): \"))\n",
        "        if guess < 0 or guess >= size:\n",
        "            print(\"Indeks tidak valid, pilih antara 0 hingga\", size-1)\n",
        "            continue\n",
        "        if treasure_map[guess] == \"X\":\n",
        "            print(\"Selamat! Kamu menemukan harta karun di lokasi:\", guess)\n",
        "            break\n",
        "        else:\n",
        "            print(\"Tidak ada harta di lokasi ini. Coba lagi!\")\n",
        "    print(\"Terima kasih sudah bermain!\")\n",
        "\n",
        "size = int(input(\"Masukkan ukuran peta yang diinginkan (minimal 2): \"))\n",
        "while size < 2:\n",
        "    print(\"Ukuran peta harus minimal 2.\")\n",
        "    size = int(input(\"Masukkan ukuran peta yang diinginkan (minimal 2): \"))\n",
        "\n",
        "treasure_map = [\"_\"] * size\n",
        "print(f\"Selamat datang di Treasure Hunt! Peta memiliki {size} lokasi (0 hingga {size-1}).\")\n",
        "\n",
        "treasure_index = int(input(f\"Masukkan lokasi harta karun (0-{size-1}): \"))\n",
        "while treasure_index < 0 or treasure_index >= size:\n",
        "    print(\"Lokasi tidak valid. Silakan coba lagi.\")\n",
        "    treasure_index = int(input(f\"Masukkan lokasi harta karun (0-{size-1}): \"))\n",
        "\n",
        "treasure_map[treasure_index] = \"X\"\n",
        "\n",
        "play_treasure_hunt(size, treasure_map)\n"
      ],
      "metadata": {
        "colab": {
          "base_uri": "https://localhost:8080/"
        },
        "id": "rJwoHy2JLnwX",
        "outputId": "84af3de0-a129-46ea-8502-ad1b8e05698d"
      },
      "execution_count": null,
      "outputs": [
        {
          "output_type": "stream",
          "name": "stdout",
          "text": [
            "Masukkan ukuran peta yang diinginkan (minimal 2): 1\n",
            "Ukuran peta harus minimal 2.\n",
            "Masukkan ukuran peta yang diinginkan (minimal 2): 2\n",
            "Selamat datang di Treasure Hunt! Peta memiliki 2 lokasi (0 hingga 1).\n",
            "Masukkan lokasi harta karun (0-1): 1\n",
            "\n",
            "Harta Karun telah disembunyikan! Sekarang giliran pemain menebak.\n",
            "\n",
            "Peta saat ini: ['_', '_']\n",
            "Masukkan indeks tebakanmu (0-1): 3\n",
            "Indeks tidak valid, pilih antara 0 hingga 1\n",
            "\n",
            "Peta saat ini: ['_', '_']\n",
            "Masukkan indeks tebakanmu (0-1): 1\n",
            "Selamat! Kamu menemukan harta karun di lokasi: 1\n",
            "Terima kasih sudah bermain!\n"
          ]
        }
      ]
    },
    {
      "cell_type": "code",
      "source": [
        "import random\n",
        "\n",
        "def play_treasure_hunt(size, treasure_map):\n",
        "    print(\"\\nHarta Karun telah disembunyikan! Sekarang giliran pemain menebak.\")\n",
        "    while True:\n",
        "        print(\"\\nPeta saat ini:\", [\"_\"] * size)\n",
        "        guess = int(input(f\"Masukkan indeks tebakanmu (1-{size}): \")) - 1\n",
        "        if guess < 0 or guess >= size:\n",
        "            print(\"Indeks tidak valid, pilih antara 1 hingga\", size)\n",
        "            continue\n",
        "        if treasure_map[guess] == \"X\":\n",
        "            print(\"Selamat! Kamu menemukan harta karun di lokasi:\", guess + 1)\n",
        "            break\n",
        "        else:\n",
        "            print(\"Tidak ada harta di lokasi ini. Coba lagi!\")\n",
        "    print(\"Terima kasih sudah bermain!\")\n",
        "\n",
        "size = int(input(\"Masukkan ukuran peta yang diinginkan (minimal 2): \"))\n",
        "while size < 2:\n",
        "    print(\"Ukuran peta harus minimal 2.\")\n",
        "    size = int(input(\"Masukkan ukuran peta yang diinginkan (minimal 2): \"))\n",
        "\n",
        "treasure_map = [\"_\"] * size\n",
        "print(f\"Selamat datang di Treasure Hunt! Peta memiliki {size} lokasi (1 hingga {size}).\")\n",
        "\n",
        "treasure_index = random.randint(0, size - 1)\n",
        "print(f\"Harta karun telah disembunyikan secara otomatis!\")\n",
        "8\n",
        "treasure_map[treasure_index] = \"X\"\n",
        "\n",
        "play_treasure_hunt(size, treasure_map)"
      ],
      "metadata": {
        "colab": {
          "base_uri": "https://localhost:8080/"
        },
        "id": "uo2BCfsVPELQ",
        "outputId": "8ccc03fb-9393-41c3-9022-77d4e430d627"
      },
      "execution_count": 30,
      "outputs": [
        {
          "output_type": "stream",
          "name": "stdout",
          "text": [
            "Masukkan ukuran peta yang diinginkan (minimal 2): 4\n",
            "Selamat datang di Treasure Hunt! Peta memiliki 4 lokasi (1 hingga 4).\n",
            "Harta karun telah disembunyikan secara otomatis!\n",
            "\n",
            "Harta Karun telah disembunyikan! Sekarang giliran pemain menebak.\n",
            "\n",
            "Peta saat ini: ['_', '_', '_', '_']\n",
            "Masukkan indeks tebakanmu (1-4): 1\n",
            "Tidak ada harta di lokasi ini. Coba lagi!\n",
            "\n",
            "Peta saat ini: ['_', '_', '_', '_']\n",
            "Masukkan indeks tebakanmu (1-4): 2\n",
            "Tidak ada harta di lokasi ini. Coba lagi!\n",
            "\n",
            "Peta saat ini: ['_', '_', '_', '_']\n",
            "Masukkan indeks tebakanmu (1-4): 3\n",
            "Selamat! Kamu menemukan harta karun di lokasi: 3\n",
            "Terima kasih sudah bermain!\n"
          ]
        }
      ]
    }
  ]
}