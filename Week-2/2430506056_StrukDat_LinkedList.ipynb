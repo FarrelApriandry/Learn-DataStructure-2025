{
  "cells": [
    {
      "cell_type": "code",
      "source": [
        "class Node:\n",
        "    def __init__(self, data):\n",
        "        self.data = data\n",
        "        self.next = None\n",
        "\n",
        "head = Node(10)\n",
        "head.next = Node(20)\n",
        "head.next.next = Node(30)\n",
        "\n",
        "print(head.data, head.next.data, head.next.next.data)  # Output: 10 20 30"
      ],
      "metadata": {
        "colab": {
          "base_uri": "https://localhost:8080/"
        },
        "id": "hTJRQu-OPskJ",
        "outputId": "79b8296b-b494-4647-97a6-fc1302a0c661"
      },
      "execution_count": null,
      "outputs": [
        {
          "output_type": "stream",
          "name": "stdout",
          "text": [
            "10 20 30\n"
          ]
        }
      ]
    },
    {
      "cell_type": "code",
      "source": [
        "class Node:\n",
        "    def __init__(self, data):\n",
        "        self.data = data\n",
        "        self.next = None\n",
        "\n",
        "head = Node(10)\n",
        "new_node = Node(5)\n",
        "new_node.next = head\n",
        "head = new_node\n",
        "print(head.data)  # Output: 5"
      ],
      "metadata": {
        "colab": {
          "base_uri": "https://localhost:8080/"
        },
        "id": "E1JcEwgTPtv1",
        "outputId": "3314f281-ff02-48c7-cb4d-57b2cc6f056d"
      },
      "execution_count": null,
      "outputs": [
        {
          "output_type": "stream",
          "name": "stdout",
          "text": [
            "5\n"
          ]
        }
      ]
    },
    {
      "cell_type": "code",
      "source": [
        "class Node:\n",
        "    def __init__(self, data):\n",
        "        self.data = data\n",
        "        self.next = None\n",
        "\n",
        "head = Node(5)\n",
        "head.next = Node(10)\n",
        "\n",
        "head = head.next  # Deleting the first node\n",
        "\n",
        "print(head.data)  # Output: 10"
      ],
      "metadata": {
        "colab": {
          "base_uri": "https://localhost:8080/"
        },
        "id": "7ae3DMcdSjov",
        "outputId": "68dee756-26f6-4796-c056-bc97361b2840"
      },
      "execution_count": null,
      "outputs": [
        {
          "output_type": "stream",
          "name": "stdout",
          "text": [
            "10\n"
          ]
        }
      ]
    },
    {
      "cell_type": "code",
      "source": [
        "class Node:\n",
        "    def __init__(self, data):\n",
        "        self.data = data\n",
        "        self.next = None\n",
        "\n",
        "head = Node(1)\n",
        "second = Node(2)\n",
        "third = Node(3)\n",
        "\n",
        "head.next = second\n",
        "second.next = third\n",
        "third.next = head  # Making it circular\n",
        "\n",
        "# Traversing a circular linked list\n",
        "current = head\n",
        "for _ in range(5):  # Limiting iterations to avoid infinite loop\n",
        "    print(current.data)\n",
        "    current = current.next\n",
        "\n",
        "# Output:\n",
        "# 1\n",
        "# 2\n",
        "# 3\n",
        "# 1\n",
        "# 2"
      ],
      "metadata": {
        "colab": {
          "base_uri": "https://localhost:8080/"
        },
        "id": "eqwadZfDSqpB",
        "outputId": "4087a59c-7c0b-441f-e337-fd29444bafe9"
      },
      "execution_count": null,
      "outputs": [
        {
          "output_type": "stream",
          "name": "stdout",
          "text": [
            "1\n",
            "2\n",
            "3\n",
            "1\n",
            "2\n"
          ]
        }
      ]
    },
    {
      "cell_type": "markdown",
      "metadata": {
        "id": "gtsV-6tvs7oe"
      },
      "source": [
        "# **Latihan**"
      ]
    },
    {
      "cell_type": "markdown",
      "source": [
        "Latihan **1**"
      ],
      "metadata": {
        "id": "iyFjSvVeTeIV"
      }
    },
    {
      "cell_type": "code",
      "source": [
        "from tabulate import tabulate\n",
        "\n",
        "def get_last_digit(npm):\n",
        "    \"\"\"Mengambil digit terakhir dari NPM.\"\"\"\n",
        "    return int(str(npm)[-1])\n",
        "\n",
        "def get_schedule():\n",
        "    \"\"\"Mengembalikan dictionary jadwal mata kuliah hari Jumat.\"\"\"\n",
        "    return {\n",
        "        \"Basis Data\": \"08:00 - 09:30\",\n",
        "        \"Pemrograman Web\": \"10:00 - 11:30\",\n",
        "        \"Struktur Data\": \"13:00 - 14:30\",\n",
        "        \"Sistem Operasi\": \"15:00 - 16:30\",\n",
        "        \"Jaringan Komputer\": \"17:00 - 18:30\",\n",
        "        \"Kecerdasan Buatan\": \"19:00 - 20:30\",\n",
        "        \"Cloud Computing\": \"20:30 - 22:00\",\n",
        "        \"Data Science\": \"22:00 - 23:30\",\n",
        "        \"Cyber Security\": \"23:30 - 01:00\",\n",
        "        \"Machine Learning\": \"01:00 - 02:30\"\n",
        "    }\n",
        "\n",
        "def display_schedule(npm):\n",
        "    \"\"\"Menampilkan jadwal berdasarkan digit terakhir NPM.\"\"\"\n",
        "    digit_terakhir = get_last_digit(npm)\n",
        "    jadwal_jumat = get_schedule()\n",
        "\n",
        "    if digit_terakhir == 0:\n",
        "        print(\"Digit terakhir NPM adalah 0, jadwal diatur ke minimal 1 mata kuliah.\")\n",
        "        digit_terakhir = 1\n",
        "\n",
        "    selected_courses = list(jadwal_jumat.items())[:digit_terakhir]\n",
        "\n",
        "    table = tabulate(selected_courses, headers=[\"Mata Kuliah\", \"Jam\"], tablefmt=\"grid\")\n",
        "\n",
        "    print(\"\\n===== Jadwal Mata Kuliah Hari Jumat =====\")\n",
        "    print(table)\n",
        "\n",
        "while True:\n",
        "    try:\n",
        "        npm = int(input(\"Masukkan NPM Anda: \"))\n",
        "        if npm <= 0:\n",
        "            print(\"NPM tidak boleh negatif atau nol. Coba lagi.\")\n",
        "            continue\n",
        "        break\n",
        "    except ValueError:\n",
        "        print(\"Input harus berupa angka. Coba lagi.\")\n",
        "\n",
        "display_schedule(npm)\n"
      ],
      "metadata": {
        "colab": {
          "base_uri": "https://localhost:8080/"
        },
        "id": "CrLd7efBTkCm",
        "outputId": "9942b3eb-b461-4487-bdaf-c478ec63dce0"
      },
      "execution_count": null,
      "outputs": [
        {
          "output_type": "stream",
          "name": "stdout",
          "text": [
            "Masukkan NPM Anda: 2430506056\n",
            "\n",
            "===== Jadwal Mata Kuliah Hari Jumat =====\n",
            "+-------------------+---------------+\n",
            "| Mata Kuliah       | Jam           |\n",
            "+===================+===============+\n",
            "| Basis Data        | 08:00 - 09:30 |\n",
            "+-------------------+---------------+\n",
            "| Pemrograman Web   | 10:00 - 11:30 |\n",
            "+-------------------+---------------+\n",
            "| Struktur Data     | 13:00 - 14:30 |\n",
            "+-------------------+---------------+\n",
            "| Sistem Operasi    | 15:00 - 16:30 |\n",
            "+-------------------+---------------+\n",
            "| Jaringan Komputer | 17:00 - 18:30 |\n",
            "+-------------------+---------------+\n",
            "| Kecerdasan Buatan | 19:00 - 20:30 |\n",
            "+-------------------+---------------+\n"
          ]
        }
      ]
    },
    {
      "cell_type": "markdown",
      "source": [
        "Latihan **2**"
      ],
      "metadata": {
        "id": "MTkR-OspTsqW"
      }
    },
    {
      "cell_type": "code",
      "source": [
        "class Node:\n",
        "    def __init__(self, folder_name):\n",
        "        self.folder_name = folder_name\n",
        "        self.prev = None\n",
        "        self.next = None\n",
        "\n",
        "class FolderNavigation:\n",
        "    def __init__(self):\n",
        "        self.head = None\n",
        "        self.current = None\n",
        "\n",
        "    def add_folder(self, folder_name):\n",
        "        new_node = Node(folder_name)\n",
        "        if not self.head:\n",
        "            self.head = new_node\n",
        "            self.current = new_node\n",
        "        else:\n",
        "            temp = self.head\n",
        "            while temp.next:\n",
        "                temp = temp.next\n",
        "            temp.next = new_node\n",
        "            new_node.prev = temp\n",
        "\n",
        "    def move_forward(self):\n",
        "        if self.current and self.current.next:\n",
        "            self.current = self.current.next\n",
        "            print(f\"Moved forward to: {self.current.folder_name}\")\n",
        "        else:\n",
        "            print(\"No more folders ahead!\")\n",
        "\n",
        "    def move_backward(self):\n",
        "        if self.current and self.current.prev:\n",
        "            self.current = self.current.prev\n",
        "            print(f\"Moved back to: {self.current.folder_name}\")\n",
        "        else:\n",
        "            print(\"No more previous folders!\")\n",
        "\n",
        "    def show_history(self):\n",
        "        temp = self.head\n",
        "        history = []\n",
        "        while temp:\n",
        "            if temp == self.current:\n",
        "                history.append(f\"[{temp.folder_name}]\")\n",
        "            else:\n",
        "                history.append(temp.folder_name)\n",
        "            temp = temp.next\n",
        "        print(\" -> \".join(history))\n",
        "\n",
        "folders = [\"C:\", \"Users\", \"Documents\", \"Projects\", \"Assignments\", \"Downloads\"]\n",
        "navigation = FolderNavigation()\n",
        "\n",
        "for folder in folders:\n",
        "    navigation.add_folder(folder)\n",
        "\n",
        "print(\"\\nFile Explorer Navigation:\")\n",
        "navigation.show_history()\n",
        "\n",
        "while True:\n",
        "    action = input(\"\\nMove (f = forward, b = backward, q = quit): \").lower()\n",
        "    if action == 'f':\n",
        "        navigation.move_forward()\n",
        "    elif action == 'b':\n",
        "        navigation.move_backward()\n",
        "    elif action == 'q':\n",
        "        print(\"Exiting...\")\n",
        "        break\n",
        "    else:\n",
        "        print(\"Invalid input!\")\n",
        "\n",
        "    navigation.show_history()\n"
      ],
      "metadata": {
        "colab": {
          "base_uri": "https://localhost:8080/"
        },
        "id": "pR56DGFbTviT",
        "outputId": "92b0adcb-cff4-4810-e1d6-ab0a8d899711"
      },
      "execution_count": null,
      "outputs": [
        {
          "output_type": "stream",
          "name": "stdout",
          "text": [
            "\n",
            "File Explorer Navigation:\n",
            "[C:] -> Users -> Documents -> Projects -> Assignments -> Downloads\n",
            "\n",
            "Move (f = forward, b = backward, q = quit): f\n",
            "Moved forward to: Users\n",
            "C: -> [Users] -> Documents -> Projects -> Assignments -> Downloads\n",
            "\n",
            "Move (f = forward, b = backward, q = quit): f\n",
            "Moved forward to: Documents\n",
            "C: -> Users -> [Documents] -> Projects -> Assignments -> Downloads\n",
            "\n",
            "Move (f = forward, b = backward, q = quit): f\n",
            "Moved forward to: Projects\n",
            "C: -> Users -> Documents -> [Projects] -> Assignments -> Downloads\n",
            "\n",
            "Move (f = forward, b = backward, q = quit): b\n",
            "Moved back to: Documents\n",
            "C: -> Users -> [Documents] -> Projects -> Assignments -> Downloads\n",
            "\n",
            "Move (f = forward, b = backward, q = quit): q\n",
            "Exiting...\n"
          ]
        }
      ]
    },
    {
      "cell_type": "markdown",
      "metadata": {
        "id": "NTM8ayOM1ewx"
      },
      "source": [
        "Latihan **3**"
      ]
    },
    {
      "cell_type": "code",
      "execution_count": null,
      "metadata": {
        "colab": {
          "background_save": true,
          "base_uri": "https://localhost:8080/"
        },
        "id": "wUI6-_QhsxBc",
        "outputId": "11e60fe4-05bf-4057-9d59-96e8076d8310"
      },
      "outputs": [
        {
          "name": "stdout",
          "output_type": "stream",
          "text": [
            "\n",
            " Pilih operasi:\n",
            "1. Tambah elemen di awal\n",
            "2. Tambah elemen di akhir\n",
            "3. Tambah elemen di posisi tertentu\n",
            "4. Hapus elemen di awal\n",
            "5. Hapus elemen di akhir\n",
            "6. Hapus elemen di posisi tertentu\n",
            "7. Cari elemen dalam daftar\n",
            "8. Balikkan daftar\n",
            "9. Tampilkan daftar\n",
            "0. Keluar\n",
            "\n",
            " Pilihan tidak valid. Silakan coba lagi.\n",
            "\n",
            " Pilih operasi:\n",
            "1. Tambah elemen di awal\n",
            "2. Tambah elemen di akhir\n",
            "3. Tambah elemen di posisi tertentu\n",
            "4. Hapus elemen di awal\n",
            "5. Hapus elemen di akhir\n",
            "6. Hapus elemen di posisi tertentu\n",
            "7. Cari elemen dalam daftar\n",
            "8. Balikkan daftar\n",
            "9. Tampilkan daftar\n",
            "0. Keluar\n",
            "\n",
            " Pilihan tidak valid. Silakan coba lagi.\n",
            "\n",
            " Pilih operasi:\n",
            "1. Tambah elemen di awal\n",
            "2. Tambah elemen di akhir\n",
            "3. Tambah elemen di posisi tertentu\n",
            "4. Hapus elemen di awal\n",
            "5. Hapus elemen di akhir\n",
            "6. Hapus elemen di posisi tertentu\n",
            "7. Cari elemen dalam daftar\n",
            "8. Balikkan daftar\n",
            "9. Tampilkan daftar\n",
            "0. Keluar\n",
            "\n",
            " Pilihan tidak valid. Silakan coba lagi.\n",
            "\n",
            " Pilih operasi:\n",
            "1. Tambah elemen di awal\n",
            "2. Tambah elemen di akhir\n",
            "3. Tambah elemen di posisi tertentu\n",
            "4. Hapus elemen di awal\n",
            "5. Hapus elemen di akhir\n",
            "6. Hapus elemen di posisi tertentu\n",
            "7. Cari elemen dalam daftar\n",
            "8. Balikkan daftar\n",
            "9. Tampilkan daftar\n",
            "0. Keluar\n"
          ]
        }
      ],
      "source": [
        "class Node:\n",
        "  def __init__(self, data):\n",
        "    self.data = data\n",
        "    self.next = None\n",
        "\n",
        "class LinkedList:\n",
        "  def __init__(self):\n",
        "    self.head = None\n",
        "\n",
        "  def add_at_beginning(self, data):\n",
        "    new_node = Node(data)\n",
        "    new.node.next = self.head\n",
        "    self.head = new_node\n",
        "\n",
        "  def add_at_end(self, data):\n",
        "    new_node = Node(data)\n",
        "    if not self.head:\n",
        "      self.head = new_node\n",
        "      return\n",
        "    temp = self.head\n",
        "    while temp.next:\n",
        "      temp = temp.next\n",
        "    temp.next = new_node\n",
        "\n",
        "  def add_at_position(self, position, data):\n",
        "    if position < 0:\n",
        "      print(\"Posisi tidak valid!\")\n",
        "      return\n",
        "    new_node = Node(data)\n",
        "    if position == 0:\n",
        "      self.add_at_beginning(data)\n",
        "      return\n",
        "    temp = self.head\n",
        "    for _ in range(position - 1):\n",
        "      if not temp.next:\n",
        "        print(\"Posisi melebihi panjang daftar!\")\n",
        "        return\n",
        "      temp = temp.next\n",
        "    new_node.next = temp.next\n",
        "    temp.next = new_node\n",
        "\n",
        "  def delete_at_beginning(self):\n",
        "    if not self.head:\n",
        "      print(\"Daftar kosong!\")\n",
        "      return\n",
        "    self.head = self.head.next\n",
        "\n",
        "  def delete_at_end(self):\n",
        "    if not self.head:\n",
        "      print(\"Daftar kosong, tidak ada yang bisa dihapus!\")\n",
        "      return\n",
        "    if not self.head.next:\n",
        "      self.head = None\n",
        "      return\n",
        "    temp = self.head\n",
        "    while temp.next.next:\n",
        "      temp = temp.next\n",
        "    temp.next = None\n",
        "\n",
        "  def delete_at_position(self, position):\n",
        "    if not self.head:\n",
        "      print(\"Daftar kosong, tidak ada yang bisa dihapus!\")\n",
        "      return\n",
        "    if position == 0:\n",
        "      self.head = self.head.next\n",
        "      return\n",
        "    temp = self.head\n",
        "    for _ in range(position - 1):\n",
        "      if not temp or not temp.next :\n",
        "        print(\"Posisi tidak ditemukan!\")\n",
        "        return\n",
        "      temp = temp.next\n",
        "    temp.next = temp.next.next\n",
        "\n",
        "  def search(self, key):\n",
        "    temp = self.head\n",
        "    while temp:\n",
        "      if temp.data == key:\n",
        "        print(f\"Elemen {key} ditemukan dalam daftar!\")\n",
        "        return\n",
        "      temp = temp.next\n",
        "    print(f\"Elemen {key} tidak ditemukan dalam daftar!\")\n",
        "\n",
        "    def reverse(self):\n",
        "      prev = none\n",
        "      current = self.head\n",
        "      while current:\n",
        "        next_node = current.next\n",
        "        current.next = prev\n",
        "        prev = current\n",
        "        current = next_node\n",
        "      self.head = prev\n",
        "\n",
        "    def display(self):\n",
        "      if not self.head:\n",
        "        print(\"Daftar kosong!\")\n",
        "        return\n",
        "      temp = self.head\n",
        "      while temp:\n",
        "        print(temp.data, end=\" -> \")\n",
        "        temp = temp.next\n",
        "      print(\"None\")\n",
        "\n",
        "li = LinkedList()\n",
        "\n",
        "num_elements = int(input(\"\\nMasukkan jumlah awal elemendalam daftar: \"))\n",
        "for i in range(num_elements) :\n",
        "  data = int(input(f\"Masukkan elemen ke-{i+1}: \"))\n",
        "  li.add_at_end(data)\n",
        "\n",
        "while True:\n",
        "  print(\"\\n Pilih operasi:\")\n",
        "  print(\"1. Tambah elemen di awal\")\n",
        "  print(\"2. Tambah elemen di akhir\")\n",
        "  print(\"3. Tambah elemen di posisi tertentu\")\n",
        "  print(\"4. Hapus elemen di awal\")\n",
        "  print(\"5. Hapus elemen di akhir\")\n",
        "  print(\"6. Hapus elemen di posisi tertentu\")\n",
        "  print(\"7. Cari elemen dalam daftar\")\n",
        "  print(\"8. Balikkan daftar\")\n",
        "  print(\"9. Tampilkan daftar\")\n",
        "  print(\"0. Keluar\")\n",
        "\n",
        "  choice = input(\"Masukkan pilihan Anda: \")\n",
        "\n",
        "  if choice == 1:\n",
        "    data = int(input(\"Masukkan elemen yang akan ditambahkan di awal: \"))\n",
        "    li.add_at_beginning(data)\n",
        "  elif choice == 2:\n",
        "    data = int(input(\"Masukkan elemen yang akan ditambahkan di akhir: \"))\n",
        "    li.add_at_end(data)\n",
        "  elif choice == 3:\n",
        "    position = int(input(\"Masukkan posisi untuk menambahkan data: \"))\n",
        "    data = int(input(\"Masukkan data yang ingin ditambahkan: \"))\n",
        "    li.add_at_position(position, data)\n",
        "  elif choice == 4:\n",
        "    li.delete_at_beginning()\n",
        "  elif choice == 5:\n",
        "    li.delete_at_end()\n",
        "  elif choice == 6:\n",
        "    position = int(input(\"Masukkan posisi elemen yang ingin dihapus: \"))\n",
        "    li.delete_at_position(position)\n",
        "  elif choice == 7:\n",
        "    key = int(input(\"Masukkan elemen yang ingin dicari: \"))\n",
        "    li.search(key)\n",
        "  elif choice == 8:\n",
        "    li.reverse()\n",
        "    print(\"Daftar berhasil dibalik!\")\n",
        "  elif choice == 9:\n",
        "    li.display()\n",
        "  elif choice == 0:\n",
        "    print(\"Terima kasih! Program selesai.\")\n",
        "    break\n",
        "  else:\n",
        "    print(\"\\n Pilihan tidak valid. Silakan coba lagi.\")"
      ]
    },
    {
      "cell_type": "markdown",
      "source": [
        "## Tugas"
      ],
      "metadata": {
        "id": "vZdSkvb8Yirr"
      }
    },
    {
      "cell_type": "markdown",
      "source": [
        "Tugas **1**"
      ],
      "metadata": {
        "id": "jFNc90P4YmRa"
      }
    },
    {
      "cell_type": "code",
      "source": [
        "from tabulate import tabulate\n",
        "\n",
        "class Node:\n",
        "    def __init__(self, name):\n",
        "        self.name = name\n",
        "        self.next = None\n",
        "\n",
        "class CircularLinkedList:\n",
        "    def __init__(self):\n",
        "        self.head = None\n",
        "\n",
        "    def add_guard(self, name):\n",
        "        new_node = Node(name)\n",
        "        if not self.head:\n",
        "            self.head = new_node\n",
        "            self.head.next = self.head\n",
        "        else:\n",
        "            temp = self.head\n",
        "            while temp.next != self.head:\n",
        "                temp = temp.next\n",
        "            temp.next = new_node\n",
        "            new_node.next = self.head\n",
        "\n",
        "    def generate_schedule(self, days):\n",
        "        if not self.head:\n",
        "            print(\"No guards available!\")\n",
        "            return\n",
        "\n",
        "        schedule = []\n",
        "        current = self.head\n",
        "        for day in range(1, days + 1):\n",
        "            schedule.append([f\"Day {day}\", current.name])\n",
        "            current = current.next\n",
        "\n",
        "        print(tabulate(schedule, headers=[\"Day\", \"Guard\"], tablefmt=\"grid\"))\n",
        "\n",
        "guards = []\n",
        "for i in range(4):\n",
        "    guard_name = input(f\"Enter the name of guard {i + 1}: \")\n",
        "    guards.append(guard_name)\n",
        "\n",
        "cll = CircularLinkedList()\n",
        "for guard in guards:\n",
        "    cll.add_guard(guard)\n",
        "\n",
        "print(\"\\nSecurity Guard Schedule for 2 Weeks:\")\n",
        "cll.generate_schedule(14)\n"
      ],
      "metadata": {
        "colab": {
          "base_uri": "https://localhost:8080/"
        },
        "id": "BdlYHy2MYhvf",
        "outputId": "8d4040e2-4c05-47aa-ca46-a6c4df810f73"
      },
      "execution_count": null,
      "outputs": [
        {
          "output_type": "stream",
          "name": "stdout",
          "text": [
            "Enter the name of guard 1: Farrel Apriandry\n",
            "Enter the name of guard 2: Zurich Sabil\n",
            "Enter the name of guard 3: Nabila Syafiq\n",
            "Enter the name of guard 4: Senandung Arimby\n",
            "\n",
            "Security Guard Schedule for 2 Weeks:\n",
            "+--------+------------------+\n",
            "| Day    | Guard            |\n",
            "+========+==================+\n",
            "| Day 1  | Farrel Apriandry |\n",
            "+--------+------------------+\n",
            "| Day 2  | Zurich Sabil     |\n",
            "+--------+------------------+\n",
            "| Day 3  | Nabila Syafiq    |\n",
            "+--------+------------------+\n",
            "| Day 4  | Senandung Arimby |\n",
            "+--------+------------------+\n",
            "| Day 5  | Farrel Apriandry |\n",
            "+--------+------------------+\n",
            "| Day 6  | Zurich Sabil     |\n",
            "+--------+------------------+\n",
            "| Day 7  | Nabila Syafiq    |\n",
            "+--------+------------------+\n",
            "| Day 8  | Senandung Arimby |\n",
            "+--------+------------------+\n",
            "| Day 9  | Farrel Apriandry |\n",
            "+--------+------------------+\n",
            "| Day 10 | Zurich Sabil     |\n",
            "+--------+------------------+\n",
            "| Day 11 | Nabila Syafiq    |\n",
            "+--------+------------------+\n",
            "| Day 12 | Senandung Arimby |\n",
            "+--------+------------------+\n",
            "| Day 13 | Farrel Apriandry |\n",
            "+--------+------------------+\n",
            "| Day 14 | Zurich Sabil     |\n",
            "+--------+------------------+\n"
          ]
        }
      ]
    },
    {
      "cell_type": "code",
      "source": [],
      "metadata": {
        "id": "U3XALHrfYhCc"
      },
      "execution_count": null,
      "outputs": []
    }
  ],
  "metadata": {
    "colab": {
      "provenance": []
    },
    "kernelspec": {
      "display_name": "Python 3",
      "name": "python3"
    },
    "language_info": {
      "name": "python"
    }
  },
  "nbformat": 4,
  "nbformat_minor": 0
}