{
  "nbformat": 4,
  "nbformat_minor": 0,
  "metadata": {
    "colab": {
      "provenance": []
    },
    "kernelspec": {
      "name": "python3",
      "display_name": "Python 3"
    },
    "language_info": {
      "name": "python"
    }
  },
  "cells": [
    {
      "cell_type": "code",
      "source": [
        "def linear_search(arr, target):\n",
        "    for i in range(len(arr)):\n",
        "        if arr[i] == target:\n",
        "            return i  # Return index if found\n",
        "    return -1  # Return -1 if not found\n",
        "\n",
        "# Example usage\n",
        "arr = [10, 23, 45, 70, 11, 15]\n",
        "target = int(input(\"Input: \"))\n",
        "result = linear_search(arr, target)\n",
        "\n",
        "print(f\"Target found at index {result}\" if result != -1 else \"Target not found\")\n"
      ],
      "metadata": {
        "colab": {
          "base_uri": "https://localhost:8080/"
        },
        "id": "xVo3HkzHInap",
        "outputId": "d65e2a2e-8b9c-4da9-e7d8-7d6bd617831e"
      },
      "execution_count": null,
      "outputs": [
        {
          "output_type": "stream",
          "name": "stdout",
          "text": [
            "Input: 11\n",
            "Target found at index 4\n"
          ]
        }
      ]
    },
    {
      "cell_type": "code",
      "source": [
        "def binary_search(arr, target):\n",
        "    left, right = 0, len(arr) - 1\n",
        "\n",
        "    while left <= right:\n",
        "        mid = (left + right) // 2\n",
        "\n",
        "        if arr[mid] == target:\n",
        "            return mid  # Element found\n",
        "        elif arr[mid] < target:\n",
        "            left = mid + 1\n",
        "        else:\n",
        "            right = mid - 1\n",
        "\n",
        "    return -1  # Return -1 if not found\n",
        "\n",
        "# Example usage\n",
        "arr = [5, 10, 15, 20, 25, 30, 35]  # Must be sorted\n",
        "target = int(input(\"Input: \"))\n",
        "result = binary_search(arr, target)\n",
        "\n",
        "print(f\"Target found at index {result}\" if result != -1 else \"Target not found\")\n"
      ],
      "metadata": {
        "colab": {
          "base_uri": "https://localhost:8080/"
        },
        "id": "vjmIaBkDJH1W",
        "outputId": "28372182-465d-4041-c151-28aa8e2879c0"
      },
      "execution_count": null,
      "outputs": [
        {
          "output_type": "stream",
          "name": "stdout",
          "text": [
            "Input: 30\n",
            "Target found at index 5\n"
          ]
        }
      ]
    },
    {
      "cell_type": "code",
      "source": [
        "import math\n",
        "\n",
        "def jump_search(arr, target):\n",
        "    n = len(arr)\n",
        "    step = int(math.sqrt(n))  # Define the jump step\n",
        "    prev = 0\n",
        "\n",
        "    while arr[min(step, n) - 1] < target:\n",
        "        prev = step\n",
        "        step += int(math.sqrt(n))\n",
        "        if prev >= n:\n",
        "            return -1  # Target not found\n",
        "\n",
        "    for i in range(prev, min(step, n)):\n",
        "        if arr[i] == target:\n",
        "            return i  # Return index if found\n",
        "\n",
        "    return -1  # Return -1 if not found\n",
        "\n",
        "# Example usage\n",
        "arr = [1, 3, 5, 7, 9, 11, 13, 15, 17, 19]  # Must be sorted\n",
        "target = int(input(\"Input: \"))\n",
        "result = jump_search(arr, target)\n",
        "\n",
        "print(f\"Target found at index {result}\" if result != -1 else \"Target not found\")\n"
      ],
      "metadata": {
        "colab": {
          "base_uri": "https://localhost:8080/"
        },
        "id": "8hXrexFRJV-H",
        "outputId": "7797212f-d941-4940-bb83-5be52f5178d2"
      },
      "execution_count": null,
      "outputs": [
        {
          "output_type": "stream",
          "name": "stdout",
          "text": [
            "Input: 13\n",
            "Target found at index 6\n"
          ]
        }
      ]
    },
    {
      "cell_type": "markdown",
      "source": [
        "# **Langkah Praktikum**"
      ],
      "metadata": {
        "id": "EMrOp7axraK5"
      }
    },
    {
      "cell_type": "markdown",
      "source": [
        "## **1. Implementasi Linear Search**"
      ],
      "metadata": {
        "id": "ATOlvHvNrdU3"
      }
    },
    {
      "cell_type": "code",
      "execution_count": null,
      "metadata": {
        "colab": {
          "base_uri": "https://localhost:8080/"
        },
        "id": "tNm9L91jrY98",
        "outputId": "6128894f-86b7-46fa-e1ac-300da1aa78c4"
      },
      "outputs": [
        {
          "output_type": "stream",
          "name": "stdout",
          "text": [
            "Enter last 3 digit of your id: 056\n",
            "Element found at index 4\n"
          ]
        }
      ],
      "source": [
        "def linear_search(arr, target):\n",
        "  for i in range (len(arr)):\n",
        "    if arr[i] == target:\n",
        "      return i\n",
        "  return -1\n",
        "\n",
        "arr = [12, 45, 78, 23, 56, 89, 34, 67, 90, 11]\n",
        "target = int(input(\"Enter last 3 digit of your id: \"))\n",
        "\n",
        "result = linear_search(arr, target)\n",
        "\n",
        "if result != -1:\n",
        "  print(f\"Element found at index {result}\")\n",
        "else :\n",
        "  print(\"Doesn't found same element\")"
      ]
    },
    {
      "cell_type": "markdown",
      "source": [
        "## **2. Implementasi Binary Search**"
      ],
      "metadata": {
        "id": "RiSy-JZNrmxT"
      }
    },
    {
      "cell_type": "code",
      "source": [
        "def binary_search(arr, target):\n",
        "  low = 0\n",
        "  high = len(arr) - 1\n",
        "\n",
        "  while low <= high:\n",
        "    mid = (low + high) // 2\n",
        "    if arr[mid] == target:\n",
        "      return mid\n",
        "    elif arr[mid] < target:\n",
        "      low = mid + 1\n",
        "    else:\n",
        "      high = mid - 1\n",
        "  return -1\n",
        "\n",
        "arr = [\"1010\", \"1202\", \"1405\", \"1707\", \"2508\", \"3009\", \"0311\", \"2412\", \"0904\"]\n",
        "arr_int = sorted([int(x) for x in arr])\n",
        "\n",
        "print(arr_int)\n",
        "target = int(input(\"Enter your birthday date (DDMM): \"))\n",
        "\n",
        "result = binary_search(arr_int, target)\n",
        "\n",
        "if result != -1:\n",
        "  print(f\"Element found at index {result}\")\n",
        "else :\n",
        "  print(\"Doesn't found same element\")"
      ],
      "metadata": {
        "colab": {
          "base_uri": "https://localhost:8080/"
        },
        "id": "5tUF41ctt3X0",
        "outputId": "d8b15913-0ff1-4691-fad8-913c8d316b16"
      },
      "execution_count": null,
      "outputs": [
        {
          "output_type": "stream",
          "name": "stdout",
          "text": [
            "[311, 904, 1010, 1202, 1405, 1707, 2412, 2508, 3009]\n",
            "Enter your birthday date (DDMM): 0904\n",
            "Element found at index 1\n"
          ]
        }
      ]
    },
    {
      "cell_type": "markdown",
      "source": [
        "## **3. Implementasi Jump Search**"
      ],
      "metadata": {
        "id": "6HLj3MwFrqbD"
      }
    },
    {
      "cell_type": "code",
      "source": [
        "import math\n",
        "\n",
        "def jump_search(arr, target):\n",
        "  n = len(arr)\n",
        "  step = int(math.sqrt(n))\n",
        "  prev = 0\n",
        "\n",
        "  while arr[min(step, n) - 1] < target:\n",
        "    prev = step\n",
        "    step += int(math.sqrt(n))\n",
        "    if prev >= n:\n",
        "      return -1\n",
        "\n",
        "  for i in range(prev, min(step, n)):\n",
        "    if arr[i] == target:\n",
        "      return i\n",
        "  return -1\n",
        "\n",
        "arr = [\"Aldi\", \"Luthfi\", \"Faiz\", \"Rama\", \"Sabil\", \"Hakkan\", \"Yasa\", \"Assep\", \"Anip\", \"Biyu\", \"Rel\"]\n",
        "target = input(\"Enter your name: \")\n",
        "\n",
        "result = jump_search(arr, target)\n",
        "\n",
        "if result != -1:\n",
        "  print(f\"Element found at index {result}\")\n",
        "else :\n",
        "  print(\"Doesn't found same element\")"
      ],
      "metadata": {
        "colab": {
          "base_uri": "https://localhost:8080/"
        },
        "id": "PwPf86mL3BLl",
        "outputId": "18f25a66-0e32-4cce-dab9-4bec6d65bfc9"
      },
      "execution_count": null,
      "outputs": [
        {
          "output_type": "stream",
          "name": "stdout",
          "text": [
            "Enter your name: Faiz\n",
            "Element found at index 2\n"
          ]
        }
      ]
    },
    {
      "cell_type": "markdown",
      "source": [
        "# **Latihan/Tugas**"
      ],
      "metadata": {
        "id": "vhRCJNGsrvYw"
      }
    },
    {
      "cell_type": "markdown",
      "source": [
        "## **1. Implementasi Linear Search, Binary Search, dan Jump Search pada sebuah array random**"
      ],
      "metadata": {
        "id": "W2Iw8b4qr0lw"
      }
    },
    {
      "cell_type": "code",
      "source": [
        "import random\n",
        "import math\n",
        "\n",
        "def linear_search(arr, target):\n",
        "    comparisons = 0\n",
        "    for i, num in enumerate(arr):\n",
        "        comparisons += 1\n",
        "        if num == target:\n",
        "            return i, comparisons\n",
        "    return -1, comparisons\n",
        "\n",
        "def binary_search(arr, target):\n",
        "    low, high = 0, len(arr) - 1\n",
        "    comparisons = 0\n",
        "\n",
        "    while low <= high:\n",
        "        comparisons += 1\n",
        "        mid = (low + high) // 2\n",
        "        if arr[mid] == target:\n",
        "            return mid, comparisons\n",
        "        elif arr[mid] < target:\n",
        "            low = mid + 1\n",
        "        else:\n",
        "            high = mid - 1\n",
        "\n",
        "    return -1, comparisons\n",
        "\n",
        "def jump_search(arr, target):\n",
        "    n = len(arr)\n",
        "    step = int(math.sqrt(n))\n",
        "    prev, comparisons = 0, 0\n",
        "\n",
        "    while prev < n and arr[min(step, n) - 1] < target:\n",
        "        comparisons += 1\n",
        "        prev = step\n",
        "        step += int(math.sqrt(n))\n",
        "        if prev >= n:\n",
        "            return -1, comparisons\n",
        "\n",
        "    for i in range(prev, min(step, n)):\n",
        "        comparisons += 1\n",
        "        if arr[i] == target:\n",
        "            return i, comparisons\n",
        "\n",
        "    return -1, comparisons\n",
        "\n",
        "# Generate 100 unique random numbers and sort them\n",
        "arr = sorted(random.sample(range(1, 1001), 100))\n",
        "\n",
        "# Select a random target\n",
        "target = random.choice(arr)\n",
        "\n",
        "# Perform searches and count comparisons\n",
        "ls_index, ls_comparisons = linear_search(arr, target)\n",
        "bs_index, bs_comparisons = binary_search(arr, target)\n",
        "js_index, js_comparisons = jump_search(arr, target)\n",
        "\n",
        "# Print results\n",
        "print(f\"Target: {target}\")\n",
        "print(f\"Linear Search: Index {ls_index}, Comparisons {ls_comparisons}\")\n",
        "print(f\"Binary Search: Index {bs_index}, Comparisons {bs_comparisons}\")\n",
        "print(f\"Jump Search: Index {js_index}, Comparisons {js_comparisons}\")\n"
      ],
      "metadata": {
        "colab": {
          "base_uri": "https://localhost:8080/"
        },
        "id": "4T31C9U2aXDZ",
        "outputId": "f3255662-4a2f-4533-8094-326fa886f881"
      },
      "execution_count": null,
      "outputs": [
        {
          "output_type": "stream",
          "name": "stdout",
          "text": [
            "Target: 271\n",
            "Linear Search: Index 30, Comparisons 31\n",
            "Binary Search: Index 30, Comparisons 4\n",
            "Jump Search: Index 30, Comparisons 4\n"
          ]
        }
      ]
    },
    {
      "cell_type": "markdown",
      "source": [
        "## **2. Implementasi code task 1, menggunakan library tabulate**"
      ],
      "metadata": {
        "id": "9f-psuNRdj95"
      }
    },
    {
      "cell_type": "code",
      "source": [
        "import random\n",
        "import math\n",
        "from tabulate import tabulate\n",
        "\n",
        "def linear_search(arr, target):\n",
        "    comparisons = 0\n",
        "    for i, num in enumerate(arr):\n",
        "        comparisons += 1\n",
        "        if num == target:\n",
        "            return i, comparisons\n",
        "    return -1, comparisons\n",
        "\n",
        "def binary_search(arr, target):\n",
        "    low, high = 0, len(arr) - 1\n",
        "    comparisons = 0\n",
        "\n",
        "    while low <= high:\n",
        "        comparisons += 1\n",
        "        mid = (low + high) // 2\n",
        "        if arr[mid] == target:\n",
        "            return mid, comparisons\n",
        "        elif arr[mid] < target:\n",
        "            low = mid + 1\n",
        "        else:\n",
        "            high = mid - 1\n",
        "\n",
        "    return -1, comparisons\n",
        "\n",
        "def jump_search(arr, target):\n",
        "    n = len(arr)\n",
        "    step = int(math.sqrt(n))\n",
        "    prev, comparisons = 0, 0\n",
        "\n",
        "    while prev < n and arr[min(step, n) - 1] < target:\n",
        "        comparisons += 1\n",
        "        prev = step\n",
        "        step += int(math.sqrt(n))\n",
        "        if prev >= n:\n",
        "            return -1, comparisons\n",
        "\n",
        "    for i in range(prev, min(step, n)):\n",
        "        comparisons += 1\n",
        "        if arr[i] == target:\n",
        "            return i, comparisons\n",
        "\n",
        "    return -1, comparisons\n",
        "\n",
        "# Generate 100 unique random numbers and sort them\n",
        "arr = sorted(random.sample(range(1, 1001), 100))\n",
        "\n",
        "# Select a random target\n",
        "target = random.choice(arr)\n",
        "\n",
        "# Perform searches and count comparisons\n",
        "ls_index, ls_comparisons = linear_search(arr, target)\n",
        "bs_index, bs_comparisons = binary_search(arr, target)\n",
        "js_index, js_comparisons = jump_search(arr, target)\n",
        "\n",
        "# Create table\n",
        "headers = [\"Algorithm\", \"Index Found\", \"Comparisons\"]\n",
        "data = [\n",
        "    [\"Linear Search\", ls_index, ls_comparisons],\n",
        "    [\"Binary Search\", bs_index, bs_comparisons],\n",
        "    [\"Jump Search\", js_index, js_comparisons]\n",
        "]\n",
        "\n",
        "# Print results\n",
        "print(\"\\nSearch Results:\")\n",
        "print(tabulate(data, headers=headers, tablefmt=\"fancy_grid\"))\n"
      ],
      "metadata": {
        "colab": {
          "base_uri": "https://localhost:8080/"
        },
        "id": "U2cVUkZYdjex",
        "outputId": "27914201-5b59-4281-9830-ffdece8d6541"
      },
      "execution_count": 27,
      "outputs": [
        {
          "output_type": "stream",
          "name": "stdout",
          "text": [
            "\n",
            "Search Results:\n",
            "╒═══════════════╤═══════════════╤═══════════════╕\n",
            "│ Algorithm     │   Index Found │   Comparisons │\n",
            "╞═══════════════╪═══════════════╪═══════════════╡\n",
            "│ Linear Search │            64 │            65 │\n",
            "├───────────────┼───────────────┼───────────────┤\n",
            "│ Binary Search │            64 │             5 │\n",
            "├───────────────┼───────────────┼───────────────┤\n",
            "│ Jump Search   │            64 │            11 │\n",
            "╘═══════════════╧═══════════════╧═══════════════╛\n"
          ]
        }
      ]
    }
  ]
}