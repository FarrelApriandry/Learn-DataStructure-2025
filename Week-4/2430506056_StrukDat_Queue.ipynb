{
  "nbformat": 4,
  "nbformat_minor": 0,
  "metadata": {
    "colab": {
      "provenance": []
    },
    "kernelspec": {
      "name": "python3",
      "display_name": "Python 3"
    },
    "language_info": {
      "name": "python"
    }
  },
  "cells": [
    {
      "cell_type": "code",
      "source": [
        "class Queue:\n",
        "    def __init__(self):\n",
        "        self.items = []\n",
        "\n",
        "    def enqueue(self, item):\n",
        "        self.items.append(item)\n",
        "\n",
        "    def dequeue(self):\n",
        "        if not self.is_empty():\n",
        "            return self.items.pop(0)\n",
        "        return None\n",
        "\n",
        "    def is_empty(self):\n",
        "        return len(self.items) == 0\n",
        "\n",
        "queue = Queue()\n",
        "queue.enqueue(1)\n",
        "queue.enqueue(2)\n",
        "print(queue.dequeue())  # Output: 1"
      ],
      "metadata": {
        "colab": {
          "base_uri": "https://localhost:8080/"
        },
        "id": "BIPXAOdcJG7M",
        "outputId": "0a486306-1826-4c69-9b44-3dbd5ac229f8"
      },
      "execution_count": null,
      "outputs": [
        {
          "output_type": "stream",
          "name": "stdout",
          "text": [
            "1\n"
          ]
        }
      ]
    },
    {
      "cell_type": "code",
      "source": [
        "class CircularQueue:\n",
        "    def __init__(self, size):\n",
        "        self.queue = [None] * size\n",
        "        self.size = size\n",
        "        self.front = self.rear = -1\n",
        "\n",
        "    def enqueue(self, item):\n",
        "        if (self.rear + 1) % self.size == self.front:\n",
        "            print(\"Queue is full\")\n",
        "            return\n",
        "        elif self.front == -1:\n",
        "            self.front = self.rear = 0\n",
        "        else:\n",
        "            self.rear = (self.rear + 1) % self.size\n",
        "        self.queue[self.rear] = item\n",
        "\n",
        "    def dequeue(self):\n",
        "        if self.front == -1:\n",
        "            print(\"Queue is empty\")\n",
        "            return None\n",
        "        item = self.queue[self.front]\n",
        "        if self.front == self.rear:\n",
        "            self.front = self.rear = -1\n",
        "        else:\n",
        "            self.front = (self.front + 1) % self.size\n",
        "        return item\n",
        "\n",
        "cq = CircularQueue(3)\n",
        "cq.enqueue(1)\n",
        "cq.enqueue(2)\n",
        "cq.enqueue(3)\n",
        "print(cq.dequeue())  # Output: 1"
      ],
      "metadata": {
        "colab": {
          "base_uri": "https://localhost:8080/"
        },
        "id": "qsgKzdpeJXcB",
        "outputId": "d18f9f71-047d-4069-a898-9a47a872b93b"
      },
      "execution_count": null,
      "outputs": [
        {
          "output_type": "stream",
          "name": "stdout",
          "text": [
            "1\n"
          ]
        }
      ]
    },
    {
      "cell_type": "code",
      "source": [
        "import queue\n",
        "pq = queue.PriorityQueue()\n",
        "pq.put((1, \"Task 1\"))\n",
        "pq.put((3, \"Task 3\"))\n",
        "pq.put((2, \"Task 2\"))\n",
        "print(pq.get()[1])  # Output: Task 1 (Lowest priority first)\n",
        "print(pq.get()[1])  # Output: Task 2\n",
        "print(pq.get()[1])  # Output: Task 3"
      ],
      "metadata": {
        "colab": {
          "base_uri": "https://localhost:8080/"
        },
        "id": "CJAU-LRZJ52l",
        "outputId": "b0c80105-9b93-459a-cca2-928bfcb7b1e7"
      },
      "execution_count": null,
      "outputs": [
        {
          "output_type": "stream",
          "name": "stdout",
          "text": [
            "Task 1\n",
            "Task 2\n",
            "Task 3\n"
          ]
        }
      ]
    },
    {
      "cell_type": "code",
      "source": [
        "from collections import deque\n",
        "\n",
        "queue = deque()\n",
        "queue.append(1)  # Enqueue from right\n",
        "queue.appendleft(2)  # Enqueue from left\n",
        "print(queue.pop())  # Output: 1\n",
        "print(queue.popleft())  # Output: 2"
      ],
      "metadata": {
        "colab": {
          "base_uri": "https://localhost:8080/"
        },
        "id": "_F768ALwKKjp",
        "outputId": "f7498a88-019d-4141-d433-f529a5553bcd"
      },
      "execution_count": null,
      "outputs": [
        {
          "output_type": "stream",
          "name": "stdout",
          "text": [
            "1\n",
            "2\n"
          ]
        }
      ]
    },
    {
      "cell_type": "code",
      "source": [
        "queue = []\n",
        "queue.append(1)\n",
        "queue.append(2)\n",
        "queue.append(3)\n",
        "print(queue.pop(0))  # Output: 1"
      ],
      "metadata": {
        "colab": {
          "base_uri": "https://localhost:8080/"
        },
        "id": "KU3wYMHYL2TU",
        "outputId": "cb217820-2dcf-495f-d481-9cca0e88bd3e"
      },
      "execution_count": null,
      "outputs": [
        {
          "output_type": "stream",
          "name": "stdout",
          "text": [
            "1\n"
          ]
        }
      ]
    },
    {
      "cell_type": "code",
      "source": [
        "from collections import deque\n",
        "queue = deque()\n",
        "queue.append(1)\n",
        "queue.append(2)\n",
        "queue.append(3)\n",
        "print(queue.popleft())  # Output: 1"
      ],
      "metadata": {
        "colab": {
          "base_uri": "https://localhost:8080/"
        },
        "id": "ZhHcbTviMCAa",
        "outputId": "a2491b09-ca1d-4566-e66c-4b00aecd35bf"
      },
      "execution_count": null,
      "outputs": [
        {
          "output_type": "stream",
          "name": "stdout",
          "text": [
            "1\n"
          ]
        }
      ]
    },
    {
      "cell_type": "code",
      "source": [
        "from queue import Queue\n",
        "queue = Queue()\n",
        "queue.put(1)\n",
        "queue.put(2)\n",
        "queue.put(3)\n",
        "print(queue.get())  # Output: 1"
      ],
      "metadata": {
        "colab": {
          "base_uri": "https://localhost:8080/"
        },
        "id": "-OqM1l9JMPTt",
        "outputId": "2c67e5af-dc20-4266-d6af-87818122e8cd"
      },
      "execution_count": null,
      "outputs": [
        {
          "output_type": "stream",
          "name": "stdout",
          "text": [
            "1\n"
          ]
        }
      ]
    },
    {
      "cell_type": "code",
      "source": [
        "class Node:\n",
        "    def __init__(self, data):\n",
        "        self.data = data\n",
        "        self.next = None\n",
        "\n",
        "class LinkedListQueue:\n",
        "    def __init__(self):\n",
        "        self.front = self.rear = None\n",
        "\n",
        "    def enqueue(self, item):\n",
        "        new_node = Node(item)\n",
        "        if self.rear is None:\n",
        "            self.front = self.rear = new_node\n",
        "            return\n",
        "        self.rear.next = new_node\n",
        "        self.rear = new_node\n",
        "\n",
        "    def dequeue(self):\n",
        "        if self.front is None:\n",
        "            return None\n",
        "        item = self.front.data\n",
        "        self.front = self.front.next\n",
        "        if self.front is None:\n",
        "            self.rear = None\n",
        "        return item\n",
        "\n",
        "ll_queue = LinkedListQueue()\n",
        "ll_queue.enqueue(1)\n",
        "ll_queue.enqueue(2)\n",
        "print(ll_queue.dequeue())  # Output: 1\n",
        "print(ll_queue.dequeue())  # Output: 2"
      ],
      "metadata": {
        "colab": {
          "base_uri": "https://localhost:8080/"
        },
        "id": "hbb-7AlhKtnK",
        "outputId": "2cab21a4-95d3-4d2a-d197-b7cb1d9600d2"
      },
      "execution_count": null,
      "outputs": [
        {
          "output_type": "stream",
          "name": "stdout",
          "text": [
            "1\n",
            "2\n"
          ]
        }
      ]
    },
    {
      "cell_type": "markdown",
      "source": [
        "# **Implementasi Queue**"
      ],
      "metadata": {
        "id": "JdBpracxt91M"
      }
    },
    {
      "cell_type": "markdown",
      "source": [
        "## Implementasi Queue dengan List"
      ],
      "metadata": {
        "id": "Bug1qo2iuGdO"
      }
    },
    {
      "cell_type": "code",
      "execution_count": null,
      "metadata": {
        "colab": {
          "base_uri": "https://localhost:8080/"
        },
        "id": "NoysBa6NngHN",
        "outputId": "82eb5568-55b5-4cc5-a4ca-65203f249ccc"
      },
      "outputs": [
        {
          "output_type": "stream",
          "name": "stdout",
          "text": [
            "Queue setelah enqueue: [10, 20, 30]\n",
            "Dequend element: 10\n",
            "Front element: 20\n",
            "Rear element: 30\n",
            "Queue size: 2\n"
          ]
        }
      ],
      "source": [
        "class QueueList:\n",
        "  def __init__ (self):\n",
        "    self.queue = []\n",
        "\n",
        "  def enqueue(self, item):\n",
        "    self.queue.append(item)\n",
        "\n",
        "  def dequeue(self):\n",
        "    if not self.is_empty():\n",
        "      return self.queue.pop(0)\n",
        "    return None\n",
        "\n",
        "  def front(self):\n",
        "    return self.queue[0] if not self.is_empty() else None\n",
        "\n",
        "  def rear(self):\n",
        "    return self.queue[-1] if not self.is_empty() else None\n",
        "\n",
        "  def is_empty(self):\n",
        "    return len(self.queue) == 0\n",
        "\n",
        "  def size(self):\n",
        "    return len(self.queue)\n",
        "\n",
        "queue = QueueList()\n",
        "queue.enqueue(10)\n",
        "queue.enqueue(20)\n",
        "queue.enqueue(30)\n",
        "print(\"Queue setelah enqueue:\", queue.queue)\n",
        "print(\"Dequend element:\", queue.dequeue())\n",
        "print(\"Front element:\", queue.front())\n",
        "print(\"Rear element:\", queue.rear())\n",
        "print(\"Queue size:\", queue.size())"
      ]
    },
    {
      "cell_type": "markdown",
      "source": [
        "## Implementasi Queue dengan collections.dequeue"
      ],
      "metadata": {
        "id": "Lzf6y6HMuL_U"
      }
    },
    {
      "cell_type": "code",
      "source": [
        "from collections import deque\n",
        "\n",
        "class QueueDeque:\n",
        "  def __init__(self):\n",
        "    self.queue = deque()\n",
        "\n",
        "  def enqueue(self, item):\n",
        "    self.queue.append(item)\n",
        "\n",
        "  def dequeue(self):\n",
        "    return self.queue.popleft() if not self.is_empty() else None\n",
        "\n",
        "  def front(self):\n",
        "    return self.queue[0] if not self.is_empty() else None\n",
        "\n",
        "  def rear(self):\n",
        "    return self.queue[-1] if not self.is_empty() else None\n",
        "\n",
        "  def is_empty(self):\n",
        "    return len(self.queue) == 0\n",
        "\n",
        "  def size(self):\n",
        "    return len(self.queue)\n",
        "\n",
        "queue = QueueDeque()\n",
        "queue.enqueue(10)\n",
        "queue.enqueue(20)\n",
        "queue.enqueue(30)\n",
        "print(\"Queue setelah enqueue:\", list(queue.queue))\n",
        "print(\"Dequend element:\", queue.dequeue())\n",
        "print(\"Front element:\", queue.front())\n",
        "print(\"Rear element:\", queue.rear())\n",
        "print(\"Queue size:\", queue.size())"
      ],
      "metadata": {
        "colab": {
          "base_uri": "https://localhost:8080/"
        },
        "id": "Ycfz-BSYq5nV",
        "outputId": "30808ae8-ab47-4e4a-8441-e9976e7f8921"
      },
      "execution_count": null,
      "outputs": [
        {
          "output_type": "stream",
          "name": "stdout",
          "text": [
            "Queue setelah enqueue: [10, 20, 30]\n",
            "Dequend element: 10\n",
            "Front element: 20\n",
            "Rear element: 30\n",
            "Queue size: 2\n"
          ]
        }
      ]
    },
    {
      "cell_type": "markdown",
      "source": [
        "## Implementasi Queue dengan queue.Queue"
      ],
      "metadata": {
        "id": "J4jFt512uULX"
      }
    },
    {
      "cell_type": "code",
      "source": [
        "from queue import Queue\n",
        "\n",
        "queue = Queue()\n",
        "\n",
        "queue.put(10)\n",
        "queue.put(20)\n",
        "queue.put(30)\n",
        "\n",
        "print(\"Queue size:\", queue.qsize())\n",
        "print(\"Dequeue element:\", queue.get())\n",
        "print(\"Queue size setelah dequeu:\", queue.qsize())"
      ],
      "metadata": {
        "colab": {
          "base_uri": "https://localhost:8080/"
        },
        "id": "xEAqnfP9rbmr",
        "outputId": "7af0501c-d5ae-4791-d50a-82822c87b040"
      },
      "execution_count": null,
      "outputs": [
        {
          "output_type": "stream",
          "name": "stdout",
          "text": [
            "Queue size: 3\n",
            "Dequeue element: 10\n",
            "Queue size setelah dequeu: 2\n"
          ]
        }
      ]
    },
    {
      "cell_type": "markdown",
      "source": [
        "## Implementasi Queue dengan Linked List"
      ],
      "metadata": {
        "id": "8a6yyw6GuYxH"
      }
    },
    {
      "cell_type": "code",
      "source": [
        "class Node:\n",
        "  def __init__(self, data):\n",
        "    self.data = data\n",
        "    self.next = None\n",
        "\n",
        "class QueueLinkedList:\n",
        "  def __init__(self):\n",
        "    self.front = self.rear = None\n",
        "\n",
        "  def enqueueu(self, data):\n",
        "    new_node = Node(data)\n",
        "    if self.rear is None:\n",
        "      self.front = self.rear = new_node\n",
        "      return\n",
        "    self.rear.next = new_node\n",
        "    self.rear = new_node\n",
        "\n",
        "  def dequeue(self):\n",
        "    if self.front is None:\n",
        "      return None\n",
        "    dequeued_element = self.front.data\n",
        "    self.front = self.front.next\n",
        "    if self.front is None:\n",
        "      self.rear = None\n",
        "    return dequeued_element\n",
        "  def is_empty(self):\n",
        "    return self.front is None\n",
        "\n",
        "  def front_element(self):\n",
        "    return self.front.data if self.front else None\n",
        "\n",
        "  def rear_element(self):\n",
        "    return self.rear.data if self.rear else None\n",
        "\n",
        "queue = QueueLinkedList()\n",
        "queue.enqueueu(10)\n",
        "queue.enqueueu(20)\n",
        "queue.enqueueu(30)\n",
        "print(\"Dequeued element:\", queue.dequeue())\n",
        "print(\"Front element:\", queue.front_element())\n",
        "print(\"Rear element:\", queue.rear_element())"
      ],
      "metadata": {
        "colab": {
          "base_uri": "https://localhost:8080/"
        },
        "id": "XkPmPdkUsTnI",
        "outputId": "69439a9b-3da7-43f8-a428-43b8e840952c"
      },
      "execution_count": null,
      "outputs": [
        {
          "output_type": "stream",
          "name": "stdout",
          "text": [
            "Dequeued element: 10\n",
            "Front element: 20\n",
            "Rear element: 30\n"
          ]
        }
      ]
    },
    {
      "cell_type": "markdown",
      "source": [
        "# **Latihan/Tugas Praktikum**"
      ],
      "metadata": {
        "id": "RaVe57VJufJh"
      }
    },
    {
      "cell_type": "markdown",
      "source": [
        "##1.  Sistem antrian pemesanan tiket bioskop"
      ],
      "metadata": {
        "id": "WKTy76udvSv2"
      }
    },
    {
      "cell_type": "code",
      "source": [
        "from collections import deque\n",
        "\n",
        "class CinemaQueue:\n",
        "    def __init__(self, max_capacity=10):\n",
        "        self.queue = deque()\n",
        "        self.max_capacity = max_capacity\n",
        "\n",
        "    def enqueue(self, customer_id):\n",
        "        if \"7\" in customer_id:\n",
        "            print(f\"VIP Customer {customer_id} gets instant access!\")\n",
        "        elif len(self.queue) < self.max_capacity:\n",
        "            self.queue.append(customer_id)\n",
        "            print(f\"Customer {customer_id} added to the queue.\")\n",
        "        else:\n",
        "            print(\"Queue is full! Please wait until a slot is available.\")\n",
        "\n",
        "    def dequeue(self):\n",
        "        if not self.is_empty():\n",
        "            served_customer = self.queue.popleft()\n",
        "            print(f\"Customer {served_customer} is being served.\")\n",
        "            return served_customer\n",
        "        print(\"No customers in the queue.\")\n",
        "        return None\n",
        "\n",
        "    def front(self):\n",
        "        return self.queue[0] if not self.is_empty() else None\n",
        "\n",
        "    def rear(self):\n",
        "        return self.queue[-1] if not self.is_empty() else None\n",
        "\n",
        "    def is_empty(self):\n",
        "        return len(self.queue) == 0\n",
        "\n",
        "    def size(self):\n",
        "        return len(self.queue)\n",
        "\n",
        "# Interactive Input\n",
        "cinema_queue = CinemaQueue()\n",
        "while True:\n",
        "    print(\"\\nCinema Ticket Queue System\")\n",
        "    print(\"1. Add Customer (Enqueue)\")\n",
        "    print(\"2. Serve Customer (Dequeue)\")\n",
        "    print(\"3. Show Front Customer\")\n",
        "    print(\"4. Show Rear Customer\")\n",
        "    print(\"5. Show Queue Size\")\n",
        "    print(\"6. Exit\")\n",
        "\n",
        "    choice = input(\"Enter your choice: \")\n",
        "\n",
        "    if choice == \"1\":\n",
        "        customer_id = input(\"Enter customer ID (e.g., AB23): \")\n",
        "        cinema_queue.enqueue(customer_id)\n",
        "    elif choice == \"2\":\n",
        "        cinema_queue.dequeue()\n",
        "    elif choice == \"3\":\n",
        "        print(\"Front customer:\", cinema_queue.front())\n",
        "    elif choice == \"4\":\n",
        "        print(\"Rear customer:\", cinema_queue.rear())\n",
        "    elif choice == \"5\":\n",
        "        print(\"Queue size:\", cinema_queue.size())\n",
        "    elif choice == \"6\":\n",
        "        print(\"Exiting system...\")\n",
        "        break\n",
        "    else:\n",
        "        print(\"Invalid choice. Please try again.\")\n"
      ],
      "metadata": {
        "id": "8GYgPAxgvSXM",
        "colab": {
          "base_uri": "https://localhost:8080/"
        },
        "outputId": "cbbc7ce2-11ae-4b73-ca70-c587cf08a298"
      },
      "execution_count": null,
      "outputs": [
        {
          "output_type": "stream",
          "name": "stdout",
          "text": [
            "\n",
            "Cinema Ticket Queue System\n",
            "1. Add Customer (Enqueue)\n",
            "2. Serve Customer (Dequeue)\n",
            "3. Show Front Customer\n",
            "4. Show Rear Customer\n",
            "5. Show Queue Size\n",
            "6. Exit\n",
            "Enter your choice: 1\n",
            "Enter customer ID (e.g., AB23): FA56\n",
            "Customer FA56 added to the queue.\n",
            "\n",
            "Cinema Ticket Queue System\n",
            "1. Add Customer (Enqueue)\n",
            "2. Serve Customer (Dequeue)\n",
            "3. Show Front Customer\n",
            "4. Show Rear Customer\n",
            "5. Show Queue Size\n",
            "6. Exit\n",
            "Enter your choice: 1\n",
            "Enter customer ID (e.g., AB23): SE50\n",
            "Customer SE50 added to the queue.\n",
            "\n",
            "Cinema Ticket Queue System\n",
            "1. Add Customer (Enqueue)\n",
            "2. Serve Customer (Dequeue)\n",
            "3. Show Front Customer\n",
            "4. Show Rear Customer\n",
            "5. Show Queue Size\n",
            "6. Exit\n",
            "Enter your choice: 3\n",
            "Front customer: FA56\n",
            "\n",
            "Cinema Ticket Queue System\n",
            "1. Add Customer (Enqueue)\n",
            "2. Serve Customer (Dequeue)\n",
            "3. Show Front Customer\n",
            "4. Show Rear Customer\n",
            "5. Show Queue Size\n",
            "6. Exit\n",
            "Enter your choice: 4\n",
            "Rear customer: SE50\n",
            "\n",
            "Cinema Ticket Queue System\n",
            "1. Add Customer (Enqueue)\n",
            "2. Serve Customer (Dequeue)\n",
            "3. Show Front Customer\n",
            "4. Show Rear Customer\n",
            "5. Show Queue Size\n",
            "6. Exit\n",
            "Enter your choice: 2\n",
            "Customer FA56 is being served.\n",
            "\n",
            "Cinema Ticket Queue System\n",
            "1. Add Customer (Enqueue)\n",
            "2. Serve Customer (Dequeue)\n",
            "3. Show Front Customer\n",
            "4. Show Rear Customer\n",
            "5. Show Queue Size\n",
            "6. Exit\n",
            "Enter your choice: 2\n",
            "Customer SE50 is being served.\n",
            "\n",
            "Cinema Ticket Queue System\n",
            "1. Add Customer (Enqueue)\n",
            "2. Serve Customer (Dequeue)\n",
            "3. Show Front Customer\n",
            "4. Show Rear Customer\n",
            "5. Show Queue Size\n",
            "6. Exit\n",
            "Enter your choice: 6\n",
            "Exiting system...\n"
          ]
        }
      ]
    },
    {
      "cell_type": "markdown",
      "source": [
        "## 2. Sistem antrian layanan fotokopi di kampus"
      ],
      "metadata": {
        "id": "e3UPE2KEvcou"
      }
    },
    {
      "cell_type": "code",
      "source": [
        "from collections import deque\n",
        "\n",
        "class PhotocopyQueue:\n",
        "    def __init__(self):\n",
        "        self.queue = deque()\n",
        "\n",
        "    def enqueue(self, order_id, num_pages):\n",
        "        if num_pages < 10:\n",
        "            print(f\"Fast Track: Order {order_id} processed immediately.\")\n",
        "        else:\n",
        "            self.queue.append((order_id, num_pages))\n",
        "            print(f\"Order {order_id} with {num_pages} pages added to queue.\")\n",
        "\n",
        "    def dequeue(self):\n",
        "        if self.is_empty():\n",
        "            print(\"No orders in queue.\")\n",
        "            return None\n",
        "        order_id, num_pages = self.queue.popleft()\n",
        "        if num_pages > 100:\n",
        "            remaining_pages = num_pages - 100\n",
        "            self.queue.append((order_id, remaining_pages))\n",
        "            print(f\"Order {order_id} processed 100 pages, {remaining_pages} pages remaining.\")\n",
        "        else:\n",
        "            print(f\"Order {order_id} completed.\")\n",
        "\n",
        "    def front(self):\n",
        "        return self.queue[0] if not self.is_empty() else None\n",
        "\n",
        "    def rear(self):\n",
        "        return self.queue[-1] if not self.is_empty() else None\n",
        "\n",
        "    def is_empty(self):\n",
        "        return len(self.queue) == 0\n",
        "\n",
        "    def size(self):\n",
        "        return len(self.queue)\n",
        "\n",
        "photocopy_queue = PhotocopyQueue()\n",
        "while True:\n",
        "    print(\"\\nPhotocopy Service Queue System\")\n",
        "    print(\"1. Add Order (Enqueue)\")\n",
        "    print(\"2. Process Order (Dequeue)\")\n",
        "    print(\"3. Show First Order\")\n",
        "    print(\"4. Show Last Order\")\n",
        "    print(\"5. Show Queue Size\")\n",
        "    print(\"6. Exit\")\n",
        "\n",
        "    choice = input(\"Enter your choice: \")\n",
        "\n",
        "    if choice == \"1\":\n",
        "        order_id = input(\"Enter order ID (e.g., ABC23): \")\n",
        "        num_pages = int(input(\"Enter number of pages: \"))\n",
        "        photocopy_queue.enqueue(order_id, num_pages)\n",
        "    elif choice == \"2\":\n",
        "        photocopy_queue.dequeue()\n",
        "    elif choice == \"3\":\n",
        "        print(\"First order:\", photocopy_queue.front())\n",
        "    elif choice == \"4\":\n",
        "        print(\"Last order:\", photocopy_queue.rear())\n",
        "    elif choice == \"5\":\n",
        "        print(\"Queue size:\", photocopy_queue.size())\n",
        "    elif choice == \"6\":\n",
        "        print(\"Exiting system...\")\n",
        "        break\n",
        "    else:\n",
        "        print(\"Invalid choice. Please try again.\")\n"
      ],
      "metadata": {
        "id": "-r_D6qAPvhKQ",
        "colab": {
          "base_uri": "https://localhost:8080/"
        },
        "outputId": "4a261cd1-aaf0-4d9f-faf7-e68a9d679443"
      },
      "execution_count": null,
      "outputs": [
        {
          "output_type": "stream",
          "name": "stdout",
          "text": [
            "\n",
            "Photocopy Service Queue System\n",
            "1. Add Order (Enqueue)\n",
            "2. Process Order (Dequeue)\n",
            "3. Show First Order\n",
            "4. Show Last Order\n",
            "5. Show Queue Size\n",
            "6. Exit\n",
            "Enter your choice: 1\n",
            "Enter order ID (e.g., ABC23): FAR56\n",
            "Enter number of pages: 101\n",
            "Order FAR56 with 101 pages added to queue.\n",
            "\n",
            "Photocopy Service Queue System\n",
            "1. Add Order (Enqueue)\n",
            "2. Process Order (Dequeue)\n",
            "3. Show First Order\n",
            "4. Show Last Order\n",
            "5. Show Queue Size\n",
            "6. Exit\n",
            "Enter your choice: 1\n",
            "Enter order ID (e.g., ABC23): ZUR57\n",
            "Enter number of pages: 8\n",
            "Fast Track: Order ZUR57 processed immediately.\n",
            "\n",
            "Photocopy Service Queue System\n",
            "1. Add Order (Enqueue)\n",
            "2. Process Order (Dequeue)\n",
            "3. Show First Order\n",
            "4. Show Last Order\n",
            "5. Show Queue Size\n",
            "6. Exit\n",
            "Enter your choice: 1\n",
            "Enter order ID (e.g., ABC23): SEN50\n",
            "Enter number of pages: 40\n",
            "Order SEN50 with 40 pages added to queue.\n",
            "\n",
            "Photocopy Service Queue System\n",
            "1. Add Order (Enqueue)\n",
            "2. Process Order (Dequeue)\n",
            "3. Show First Order\n",
            "4. Show Last Order\n",
            "5. Show Queue Size\n",
            "6. Exit\n",
            "Enter your choice: 3\n",
            "First order: ('FAR56', 101)\n",
            "\n",
            "Photocopy Service Queue System\n",
            "1. Add Order (Enqueue)\n",
            "2. Process Order (Dequeue)\n",
            "3. Show First Order\n",
            "4. Show Last Order\n",
            "5. Show Queue Size\n",
            "6. Exit\n",
            "Enter your choice: 4\n",
            "Last order: ('SEN50', 40)\n",
            "\n",
            "Photocopy Service Queue System\n",
            "1. Add Order (Enqueue)\n",
            "2. Process Order (Dequeue)\n",
            "3. Show First Order\n",
            "4. Show Last Order\n",
            "5. Show Queue Size\n",
            "6. Exit\n",
            "Enter your choice: 5\n",
            "Queue size: 2\n",
            "\n",
            "Photocopy Service Queue System\n",
            "1. Add Order (Enqueue)\n",
            "2. Process Order (Dequeue)\n",
            "3. Show First Order\n",
            "4. Show Last Order\n",
            "5. Show Queue Size\n",
            "6. Exit\n",
            "Enter your choice: 2\n",
            "Order FAR56 processed 100 pages, 1 pages remaining.\n",
            "\n",
            "Photocopy Service Queue System\n",
            "1. Add Order (Enqueue)\n",
            "2. Process Order (Dequeue)\n",
            "3. Show First Order\n",
            "4. Show Last Order\n",
            "5. Show Queue Size\n",
            "6. Exit\n",
            "Enter your choice: 5\n",
            "Queue size: 2\n",
            "\n",
            "Photocopy Service Queue System\n",
            "1. Add Order (Enqueue)\n",
            "2. Process Order (Dequeue)\n",
            "3. Show First Order\n",
            "4. Show Last Order\n",
            "5. Show Queue Size\n",
            "6. Exit\n",
            "Enter your choice: 6\n",
            "Exiting system...\n"
          ]
        }
      ]
    },
    {
      "cell_type": "markdown",
      "source": [
        "## 3. Sistem antrian kendaraan masuk ke parkiran mall"
      ],
      "metadata": {
        "id": "O7AjGqgTvhcp"
      }
    },
    {
      "cell_type": "code",
      "source": [
        "from collections import deque\n",
        "\n",
        "class ParkingQueue:\n",
        "    def __init__(self, capacity=15):\n",
        "        self.queue = deque()\n",
        "        self.capacity = capacity\n",
        "\n",
        "    def enqueue(self, vehicle_number, is_electric=False):\n",
        "        \"\"\" Adds a vehicle to the queue. Electric vehicles get priority. \"\"\"\n",
        "        if len(self.queue) < self.capacity:\n",
        "            if is_electric:\n",
        "                self.queue.appendleft(vehicle_number)\n",
        "                print(f\"Priority Entry: Electric Vehicle {vehicle_number} has entered first.\")\n",
        "            else:\n",
        "                self.queue.append(vehicle_number)\n",
        "                print(f\"Vehicle {vehicle_number} has entered the parking queue.\")\n",
        "        else:\n",
        "            print(\"Parking lot is full! Please wait until a slot is available.\")\n",
        "\n",
        "    def dequeue(self):\n",
        "        \"\"\" Removes the first vehicle from the queue. \"\"\"\n",
        "        if not self.is_empty():\n",
        "            vehicle = self.queue.popleft()\n",
        "            print(f\"Vehicle {vehicle} has exited the parking lot.\")\n",
        "            return vehicle\n",
        "        print(\"No vehicles in the parking lot.\")\n",
        "        return None\n",
        "\n",
        "    def front(self):\n",
        "        \"\"\" Returns the first vehicle in the queue. \"\"\"\n",
        "        return self.queue[0] if not self.is_empty() else None\n",
        "\n",
        "    def rear(self):\n",
        "        \"\"\" Returns the last vehicle in the queue. \"\"\"\n",
        "        return self.queue[-1] if not self.is_empty() else None\n",
        "\n",
        "    def is_empty(self):\n",
        "        \"\"\" Checks if the parking lot is empty. \"\"\"\n",
        "        return len(self.queue) == 0\n",
        "\n",
        "    def size(self):\n",
        "        \"\"\" Returns the number of vehicles in the parking lot. \"\"\"\n",
        "        return len(self.queue)\n",
        "\n",
        "\n",
        "parking_lot = ParkingQueue()\n",
        "\n",
        "while True:\n",
        "    print(\"\\nMall Parking System\")\n",
        "    print(\"1. Add Vehicle (Enqueue)\")\n",
        "    print(\"2. Remove Vehicle (Dequeue)\")\n",
        "    print(\"3. Show First Vehicle (Front)\")\n",
        "    print(\"4. Show Last Vehicle (Rear)\")\n",
        "    print(\"5. Check Parking Lot Size\")\n",
        "    print(\"6. Exit\")\n",
        "\n",
        "    choice = input(\"Enter your choice: \")\n",
        "\n",
        "    if choice == \"1\":\n",
        "        city_code = input(\"Enter license plate: \").upper()\n",
        "        is_electric = input(\"Is this an electric vehicle? (yes/no): \").strip().lower() == \"yes\"\n",
        "\n",
        "        vehicle_number = city_code\n",
        "        parking_lot.enqueue(vehicle_number, is_electric)\n",
        "\n",
        "    elif choice == \"2\":\n",
        "        parking_lot.dequeue()\n",
        "\n",
        "    elif choice == \"3\":\n",
        "        front_vehicle = parking_lot.front()\n",
        "        print(f\"First vehicle in queue: {front_vehicle}\" if front_vehicle else \"No vehicles in the parking lot.\")\n",
        "\n",
        "    elif choice == \"4\":\n",
        "        rear_vehicle = parking_lot.rear()\n",
        "        print(f\"Last vehicle in queue: {rear_vehicle}\" if rear_vehicle else \"No vehicles in the parking lot.\")\n",
        "\n",
        "    elif choice == \"5\":\n",
        "        print(f\"Current parking lot size: {parking_lot.size()}\")\n",
        "\n",
        "    elif choice == \"6\":\n",
        "        print(\"Exiting system...\")\n",
        "        break\n",
        "\n",
        "    else:\n",
        "        print(\"Invalid choice. Please try again.\")\n"
      ],
      "metadata": {
        "id": "Q26etHebvnOH",
        "colab": {
          "base_uri": "https://localhost:8080/"
        },
        "outputId": "1058fa90-627d-4750-fd0c-07935dba521b"
      },
      "execution_count": null,
      "outputs": [
        {
          "output_type": "stream",
          "name": "stdout",
          "text": [
            "\n",
            "Mall Parking System\n",
            "1. Add Vehicle (Enqueue)\n",
            "2. Remove Vehicle (Dequeue)\n",
            "3. Show First Vehicle (Front)\n",
            "4. Show Last Vehicle (Rear)\n",
            "5. Check Parking Lot Size\n",
            "6. Exit\n",
            "Enter your choice: 1\n",
            "Enter license plate: MA56\n",
            "Is this an electric vehicle? (yes/no): no\n",
            "Vehicle MA56 has entered the parking queue.\n",
            "\n",
            "Mall Parking System\n",
            "1. Add Vehicle (Enqueue)\n",
            "2. Remove Vehicle (Dequeue)\n",
            "3. Show First Vehicle (Front)\n",
            "4. Show Last Vehicle (Rear)\n",
            "5. Check Parking Lot Size\n",
            "6. Exit\n",
            "Enter your choice: 1\n",
            "Enter license plate: BO01\n",
            "Is this an electric vehicle? (yes/no): yes\n",
            "Priority Entry: Electric Vehicle BO01 has entered first.\n",
            "\n",
            "Mall Parking System\n",
            "1. Add Vehicle (Enqueue)\n",
            "2. Remove Vehicle (Dequeue)\n",
            "3. Show First Vehicle (Front)\n",
            "4. Show Last Vehicle (Rear)\n",
            "5. Check Parking Lot Size\n",
            "6. Exit\n",
            "Enter your choice: 3\n",
            "First vehicle in queue: BO01\n",
            "\n",
            "Mall Parking System\n",
            "1. Add Vehicle (Enqueue)\n",
            "2. Remove Vehicle (Dequeue)\n",
            "3. Show First Vehicle (Front)\n",
            "4. Show Last Vehicle (Rear)\n",
            "5. Check Parking Lot Size\n",
            "6. Exit\n",
            "Enter your choice: 4\n",
            "Last vehicle in queue: MA56\n",
            "\n",
            "Mall Parking System\n",
            "1. Add Vehicle (Enqueue)\n",
            "2. Remove Vehicle (Dequeue)\n",
            "3. Show First Vehicle (Front)\n",
            "4. Show Last Vehicle (Rear)\n",
            "5. Check Parking Lot Size\n",
            "6. Exit\n",
            "Enter your choice: 5\n",
            "Current parking lot size: 2\n",
            "\n",
            "Mall Parking System\n",
            "1. Add Vehicle (Enqueue)\n",
            "2. Remove Vehicle (Dequeue)\n",
            "3. Show First Vehicle (Front)\n",
            "4. Show Last Vehicle (Rear)\n",
            "5. Check Parking Lot Size\n",
            "6. Exit\n",
            "Enter your choice: 2\n",
            "Vehicle BO01 has exited the parking lot.\n",
            "\n",
            "Mall Parking System\n",
            "1. Add Vehicle (Enqueue)\n",
            "2. Remove Vehicle (Dequeue)\n",
            "3. Show First Vehicle (Front)\n",
            "4. Show Last Vehicle (Rear)\n",
            "5. Check Parking Lot Size\n",
            "6. Exit\n",
            "Enter your choice: 5\n",
            "Current parking lot size: 1\n",
            "\n",
            "Mall Parking System\n",
            "1. Add Vehicle (Enqueue)\n",
            "2. Remove Vehicle (Dequeue)\n",
            "3. Show First Vehicle (Front)\n",
            "4. Show Last Vehicle (Rear)\n",
            "5. Check Parking Lot Size\n",
            "6. Exit\n",
            "Enter your choice: 6\n",
            "Exiting system...\n"
          ]
        }
      ]
    },
    {
      "cell_type": "markdown",
      "source": [
        "## 4. Sistem antrian pengambilan sertifikat di kampus"
      ],
      "metadata": {
        "id": "u25F_z0cvngi"
      }
    },
    {
      "cell_type": "code",
      "source": [
        "from collections import deque\n",
        "\n",
        "class CertificateQueue:\n",
        "    def __init__(self):\n",
        "        self.regular_queue = deque()\n",
        "        self.achievement_queue = deque()\n",
        "\n",
        "    def enqueue(self, student_id, is_achiever=False):\n",
        "        \"\"\" Adds a student to the queue. Achievers bypass the queue. \"\"\"\n",
        "        if is_achiever:\n",
        "            print(f\"Priority Entry: Student {student_id} can collect the certificate immediately.\")\n",
        "        else:\n",
        "            if len(self.regular_queue) >= 20:\n",
        "                self.achievement_queue.append(student_id)\n",
        "                print(f\"Student {student_id} added to achievement queue.\")\n",
        "            else:\n",
        "                self.regular_queue.append(student_id)\n",
        "                print(f\"Student {student_id} added to the regular queue.\")\n",
        "\n",
        "    def dequeue(self):\n",
        "        \"\"\" Serves the first student in line. \"\"\"\n",
        "        if self.achievement_queue:\n",
        "            student = self.achievement_queue.popleft()\n",
        "            print(f\"Student {student} from the achievement queue has collected the certificate.\")\n",
        "        elif self.regular_queue:\n",
        "            student = self.regular_queue.popleft()\n",
        "            print(f\"Student {student} from the regular queue has collected the certificate.\")\n",
        "        else:\n",
        "            print(\"No students in the queue.\")\n",
        "\n",
        "    def front(self):\n",
        "        \"\"\" Returns the first student in line. \"\"\"\n",
        "        return self.achievement_queue[0] if self.achievement_queue else (self.regular_queue[0] if self.regular_queue else None)\n",
        "\n",
        "    def rear(self):\n",
        "        \"\"\" Returns the last student in line. \"\"\"\n",
        "        return self.regular_queue[-1] if self.regular_queue else (self.achievement_queue[-1] if self.achievement_queue else None)\n",
        "\n",
        "    def is_empty(self):\n",
        "        \"\"\" Checks if both queues are empty. \"\"\"\n",
        "        return not self.achievement_queue and not self.regular_queue\n",
        "\n",
        "    def size(self):\n",
        "        \"\"\" Returns the total number of students in the queue. \"\"\"\n",
        "        return len(self.achievement_queue) + len(self.regular_queue)\n",
        "\n",
        "# Interactive System\n",
        "certificate_system = CertificateQueue()\n",
        "\n",
        "while True:\n",
        "    print(\"\\nCertificate Collection System\")\n",
        "    print(\"1. Add Student to Queue (Enqueue)\")\n",
        "    print(\"2. Serve Student (Dequeue)\")\n",
        "    print(\"3. Show First Student (Front)\")\n",
        "    print(\"4. Show Last Student (Rear)\")\n",
        "    print(\"5. Check Queue Size\")\n",
        "    print(\"6. Exit\")\n",
        "\n",
        "    choice = input(\"Enter your choice: \")\n",
        "\n",
        "    if choice == \"1\":\n",
        "        program_code = input(\"Enter your ID: \").upper()\n",
        "        is_achiever = input(\"Have you competed at the national level? (yes/no): \").strip().lower() == \"yes\"\n",
        "\n",
        "        student_id = program_code\n",
        "        certificate_system.enqueue(student_id, is_achiever)\n",
        "\n",
        "    elif choice == \"2\":\n",
        "        certificate_system.dequeue()\n",
        "\n",
        "    elif choice == \"3\":\n",
        "        front_student = certificate_system.front()\n",
        "        print(f\"First student in queue: {front_student}\" if front_student else \"No students in queue.\")\n",
        "\n",
        "    elif choice == \"4\":\n",
        "        rear_student = certificate_system.rear()\n",
        "        print(f\"Last student in queue: {rear_student}\" if rear_student else \"No students in queue.\")\n",
        "\n",
        "    elif choice == \"5\":\n",
        "        print(f\"Current queue size: {certificate_system.size()}\")\n",
        "\n",
        "    elif choice == \"6\":\n",
        "        print(\"Exiting system...\")\n",
        "        break\n",
        "\n",
        "    else:\n",
        "        print(\"Invalid choice. Please try again.\")\n"
      ],
      "metadata": {
        "id": "l2J9e1ucvuvi",
        "colab": {
          "base_uri": "https://localhost:8080/"
        },
        "outputId": "7620d42a-e4ee-433d-daa9-43c0b7c582e2"
      },
      "execution_count": null,
      "outputs": [
        {
          "output_type": "stream",
          "name": "stdout",
          "text": [
            "\n",
            "Certificate Collection System\n",
            "1. Add Student to Queue (Enqueue)\n",
            "2. Serve Student (Dequeue)\n",
            "3. Show First Student (Front)\n",
            "4. Show Last Student (Rear)\n",
            "5. Check Queue Size\n",
            "6. Exit\n",
            "Enter your choice: 1\n",
            "Enter your ID: TE56\n",
            "Have you competed at the national level? (yes/no): no\n",
            "Student TE56 added to the regular queue.\n",
            "\n",
            "Certificate Collection System\n",
            "1. Add Student to Queue (Enqueue)\n",
            "2. Serve Student (Dequeue)\n",
            "3. Show First Student (Front)\n",
            "4. Show Last Student (Rear)\n",
            "5. Check Queue Size\n",
            "6. Exit\n",
            "Enter your choice: 1\n",
            "Enter your ID: TE57\n",
            "Have you competed at the national level? (yes/no): no\n",
            "Student TE57 added to the regular queue.\n",
            "\n",
            "Certificate Collection System\n",
            "1. Add Student to Queue (Enqueue)\n",
            "2. Serve Student (Dequeue)\n",
            "3. Show First Student (Front)\n",
            "4. Show Last Student (Rear)\n",
            "5. Check Queue Size\n",
            "6. Exit\n",
            "Enter your choice: 1\n",
            "Enter your ID: TE50\n",
            "Have you competed at the national level? (yes/no): yes\n",
            "Priority Entry: Student TE50 can collect the certificate immediately.\n",
            "\n",
            "Certificate Collection System\n",
            "1. Add Student to Queue (Enqueue)\n",
            "2. Serve Student (Dequeue)\n",
            "3. Show First Student (Front)\n",
            "4. Show Last Student (Rear)\n",
            "5. Check Queue Size\n",
            "6. Exit\n",
            "Enter your choice: 3\n",
            "First student in queue: TE56\n",
            "\n",
            "Certificate Collection System\n",
            "1. Add Student to Queue (Enqueue)\n",
            "2. Serve Student (Dequeue)\n",
            "3. Show First Student (Front)\n",
            "4. Show Last Student (Rear)\n",
            "5. Check Queue Size\n",
            "6. Exit\n",
            "Enter your choice: 4\n",
            "Last student in queue: TE57\n",
            "\n",
            "Certificate Collection System\n",
            "1. Add Student to Queue (Enqueue)\n",
            "2. Serve Student (Dequeue)\n",
            "3. Show First Student (Front)\n",
            "4. Show Last Student (Rear)\n",
            "5. Check Queue Size\n",
            "6. Exit\n",
            "Enter your choice: 5\n",
            "Current queue size: 2\n",
            "\n",
            "Certificate Collection System\n",
            "1. Add Student to Queue (Enqueue)\n",
            "2. Serve Student (Dequeue)\n",
            "3. Show First Student (Front)\n",
            "4. Show Last Student (Rear)\n",
            "5. Check Queue Size\n",
            "6. Exit\n",
            "Enter your choice: 6\n",
            "Exiting system...\n"
          ]
        }
      ]
    }
  ]
}