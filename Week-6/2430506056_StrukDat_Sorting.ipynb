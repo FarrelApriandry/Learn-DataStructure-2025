{
  "nbformat": 4,
  "nbformat_minor": 0,
  "metadata": {
    "colab": {
      "provenance": []
    },
    "kernelspec": {
      "name": "python3",
      "display_name": "Python 3"
    },
    "language_info": {
      "name": "python"
    }
  },
  "cells": [
    {
      "cell_type": "code",
      "execution_count": 1,
      "metadata": {
        "colab": {
          "base_uri": "https://localhost:8080/"
        },
        "id": "vNdpeEC1dKmy",
        "outputId": "15691f04-66ac-4792-fe0e-a072ebcdf9d8"
      },
      "outputs": [
        {
          "output_type": "stream",
          "name": "stdout",
          "text": [
            "[11, 12, 22, 25, 34, 64, 90]\n"
          ]
        }
      ],
      "source": [
        "def bubble_sort(arr):\n",
        "    n = len(arr)\n",
        "    for i in range(n):\n",
        "        for j in range(0, n-i-1):\n",
        "            if arr[j] > arr[j+1]:\n",
        "                arr[j], arr[j+1] = arr[j+1], arr[j]  # Swap\n",
        "    return arr\n",
        "\n",
        "# Example\n",
        "arr = [64, 34, 25, 12, 22, 11, 90]\n",
        "print(bubble_sort(arr))"
      ]
    },
    {
      "cell_type": "code",
      "source": [
        "def selection_sort(arr):\n",
        "    n = len(arr)\n",
        "    for i in range(n):\n",
        "        min_idx = i\n",
        "        for j in range(i+1, n):\n",
        "            if arr[j] < arr[min_idx]:\n",
        "                min_idx = j\n",
        "        arr[i], arr[min_idx] = arr[min_idx], arr[i]\n",
        "    return arr\n",
        "\n",
        "# Example\n",
        "arr = [64, 25, 12, 22, 11]\n",
        "print(selection_sort(arr))"
      ],
      "metadata": {
        "id": "nrwsNMqBhnSW"
      },
      "execution_count": null,
      "outputs": []
    },
    {
      "cell_type": "code",
      "source": [
        "def insertion_sort(arr):\n",
        "    for i in range(1, len(arr)):\n",
        "        key = arr[i]\n",
        "        j = i-1\n",
        "        while j >= 0 and key < arr[j]:\n",
        "            arr[j+1] = arr[j]\n",
        "            j -= 1\n",
        "        arr[j+1] = key\n",
        "    return arr\n",
        "\n",
        "# Example\n",
        "arr = [12, 11, 13, 5, 6]\n",
        "print(insertion_sort(arr))"
      ],
      "metadata": {
        "id": "WfRXZ7Gthp-Z"
      },
      "execution_count": null,
      "outputs": []
    },
    {
      "cell_type": "code",
      "source": [
        "def merge_sort(arr):\n",
        "    if len(arr) > 1:\n",
        "        mid = len(arr) // 2\n",
        "        left_half = arr[:mid]\n",
        "        right_half = arr[mid:]\n",
        "\n",
        "        merge_sort(left_half)\n",
        "        merge_sort(right_half)\n",
        "\n",
        "        i = j = k = 0\n",
        "        while i < len(left_half) and j < len(right_half):\n",
        "            if left_half[i] < right_half[j]:\n",
        "                arr[k] = left_half[i]\n",
        "                i += 1\n",
        "            else:\n",
        "                arr[k] = right_half[j]\n",
        "                j += 1\n",
        "            k += 1\n",
        "\n",
        "        while i < len(left_half):\n",
        "            arr[k] = left_half[i]\n",
        "            i += 1\n",
        "            k += 1\n",
        "\n",
        "        while j < len(right_half):\n",
        "            arr[k] = right_half[j]\n",
        "            j += 1\n",
        "            k += 1\n",
        "    return arr\n",
        "\n",
        "# Example\n",
        "arr = [38, 27, 43, 3, 9, 82, 10]\n",
        "print(merge_sort(arr))"
      ],
      "metadata": {
        "id": "B9wTJFdihrt5"
      },
      "execution_count": null,
      "outputs": []
    },
    {
      "cell_type": "code",
      "source": [
        "def quick_sort(arr):\n",
        "    if len(arr) <= 1:\n",
        "        return arr\n",
        "    pivot = arr[len(arr) // 2]\n",
        "    left = [x for x in arr if x < pivot]\n",
        "    middle = [x for x in arr if x == pivot]\n",
        "    right = [x for x in arr if x > pivot]\n",
        "    return quick_sort(left) + middle + quick_sort(right)\n",
        "\n",
        "# Example\n",
        "arr = [10, 7, 8, 9, 1, 5]\n",
        "print(quick_sort(arr))"
      ],
      "metadata": {
        "id": "zfJIEoIrhtZq"
      },
      "execution_count": null,
      "outputs": []
    },
    {
      "cell_type": "markdown",
      "source": [
        "# **Latihan Praktikum**"
      ],
      "metadata": {
        "id": "7PerBpz8iB1y"
      }
    },
    {
      "cell_type": "markdown",
      "source": [
        "## **Latihan 1**"
      ],
      "metadata": {
        "id": "glISgKEtiM7Z"
      }
    },
    {
      "cell_type": "code",
      "source": [
        "def bubble_sort(arr):\n",
        "  n = len(arr)\n",
        "  for i in range(n - 1):\n",
        "    for j in range(n - i - 1):\n",
        "      if arr[j] > arr[j + 1]:\n",
        "        arr[j], arr[j + 1] = arr[j + 1], arr[j]\n",
        "  return arr\n",
        "\n",
        "data = [64, 34, 25, 12, 22, 11, 90]\n",
        "sorted_data = bubble_sort(data.copy())\n",
        "print(\"Data sebelum sorting:\", data)\n",
        "print(\"Data setelah Bubble Sort:\", sorted_data)"
      ],
      "metadata": {
        "colab": {
          "base_uri": "https://localhost:8080/"
        },
        "id": "PdU5JTC_ikfD",
        "outputId": "19d3e64e-8922-4508-bac2-6621cab1a294"
      },
      "execution_count": 2,
      "outputs": [
        {
          "output_type": "stream",
          "name": "stdout",
          "text": [
            "Data sebelum sorting: [64, 34, 25, 12, 22, 11, 90]\n",
            "Data setelah Bubble Sort: [11, 12, 22, 25, 34, 64, 90]\n"
          ]
        }
      ]
    },
    {
      "cell_type": "markdown",
      "source": [
        "## **Latihan 2**"
      ],
      "metadata": {
        "id": "aTEg54xriO3h"
      }
    },
    {
      "cell_type": "code",
      "source": [
        "def selection_sort(arr):\n",
        "  n = len(arr)\n",
        "  for i in range(n - 1):\n",
        "    min_index = i\n",
        "    for j in range(i + 1, n):\n",
        "      if arr[j] < arr[min_index]:\n",
        "        min_index = j\n",
        "    arr[i], arr[min_index] = arr[min_index], arr[i]\n",
        "  return arr\n",
        "\n",
        "data = [64, 25, 12, 22, 11]\n",
        "sorted_data = selection_sort(data.copy())\n",
        "print(\"Data sebelum sorting:\", data)\n",
        "print(\"Data setelah Selection Sort:\", sorted_data)"
      ],
      "metadata": {
        "colab": {
          "base_uri": "https://localhost:8080/"
        },
        "id": "sP1QooDrjKjc",
        "outputId": "f720f5a9-1f35-4964-e667-05ac6ece345a"
      },
      "execution_count": 3,
      "outputs": [
        {
          "output_type": "stream",
          "name": "stdout",
          "text": [
            "Data sebelum sorting: [64, 25, 12, 22, 11]\n",
            "Data setelah Selection Sort: [11, 12, 22, 25, 64]\n"
          ]
        }
      ]
    },
    {
      "cell_type": "markdown",
      "source": [
        "## **Latihan 3**"
      ],
      "metadata": {
        "id": "5OGC4TEKiZgY"
      }
    },
    {
      "cell_type": "code",
      "source": [
        "def insertion_sort(arr):\n",
        "  n = len(arr)\n",
        "  for i in range(1, n):\n",
        "    key = arr[i]\n",
        "    j = i - 1\n",
        "    while j >= 0 and arr[j] > key:\n",
        "      arr[j + 1] = arr[j]\n",
        "      j -= 1\n",
        "    arr[j + 1] = key\n",
        "  return arr\n",
        "\n",
        "data = [64, 34, 25, 12, 22, 11, 90]\n",
        "sorted_data = insertion_sort(data.copy())\n",
        "print(\"Data sebelum sorting:\", data)\n",
        "print(\"Data setelah Insertion Sort:\", sorted_data)"
      ],
      "metadata": {
        "colab": {
          "base_uri": "https://localhost:8080/"
        },
        "id": "0DpSO02ZjNrp",
        "outputId": "9d6f2ef9-a081-467d-b72b-e47044c6b906"
      },
      "execution_count": 4,
      "outputs": [
        {
          "output_type": "stream",
          "name": "stdout",
          "text": [
            "Data sebelum sorting: [64, 34, 25, 12, 22, 11, 90]\n",
            "Data setelah Insertion Sort: [11, 12, 22, 25, 34, 64, 90]\n"
          ]
        }
      ]
    },
    {
      "cell_type": "markdown",
      "source": [
        "## **Latihan 4**"
      ],
      "metadata": {
        "id": "lvYiKmRVic23"
      }
    },
    {
      "cell_type": "code",
      "source": [
        "def merge_sort(arr):\n",
        "  if len(arr) > 1:\n",
        "    mid = len(arr) // 2\n",
        "    left_half = arr[:mid]\n",
        "    right_half = arr[mid:]\n",
        "\n",
        "    merge_sort(left_half)\n",
        "    merge_sort(right_half)\n",
        "\n",
        "    i = j = k = 0\n",
        "\n",
        "    while i < len(left_half) and j < len(right_half):\n",
        "      if left_half[i] < right_half[j]:\n",
        "        arr[k] = left_half[i]\n",
        "        i += 1\n",
        "      else:\n",
        "        arr[k] = right_half[j]\n",
        "        j += 1\n",
        "      k += 1\n",
        "\n",
        "    while i < len(left_half):\n",
        "      arr[k] = left_half[i]\n",
        "      i += 1\n",
        "      k += 1\n",
        "\n",
        "    while j < len(right_half):\n",
        "      arr[k] = right_half[j]\n",
        "      j += 1\n",
        "      k += 1\n",
        "\n",
        "  return arr\n",
        "\n",
        "data = [64, 25, 12, 22, 11]\n",
        "sorted_data = merge_sort(data.copy())\n",
        "print(\"Data sebelum sorting:\", data)\n",
        "print(\"Data setelah Merge Sort:\", sorted_data)"
      ],
      "metadata": {
        "colab": {
          "base_uri": "https://localhost:8080/"
        },
        "id": "qa7jLGYZjldq",
        "outputId": "11014fec-4d79-4011-b1e9-c54fa388834a"
      },
      "execution_count": 5,
      "outputs": [
        {
          "output_type": "stream",
          "name": "stdout",
          "text": [
            "Data sebelum sorting: [64, 25, 12, 22, 11]\n",
            "Data setelah Merge Sort: [11, 12, 22, 25, 64]\n"
          ]
        }
      ]
    },
    {
      "cell_type": "markdown",
      "source": [
        "## **Latihan 5**"
      ],
      "metadata": {
        "id": "pDm9SQ_4ihok"
      }
    },
    {
      "cell_type": "code",
      "source": [
        "def quick_sort(arr):\n",
        "  if len(arr) <= 1:\n",
        "    return arr\n",
        "  pivot = arr[len(arr) // 2]\n",
        "  left = [x for x in arr if x < pivot]\n",
        "  middle = [x for x in arr if x == pivot]\n",
        "  right = [x for x in arr if x > pivot]\n",
        "  return quick_sort(left) + middle + quick_sort(right)\n",
        "\n",
        "data = [64, 25, 12, 22, 11]\n",
        "sorted_data = quick_sort(data.copy())\n",
        "print(\"Data sebelum sorting:\", data)\n",
        "print(\"Data setelah Quick Sort:\", sorted_data)"
      ],
      "metadata": {
        "colab": {
          "base_uri": "https://localhost:8080/"
        },
        "id": "zQeKGkKXjm7x",
        "outputId": "31b694e1-5dbd-42ba-da73-962fe682bb50"
      },
      "execution_count": 6,
      "outputs": [
        {
          "output_type": "stream",
          "name": "stdout",
          "text": [
            "Data sebelum sorting: [64, 25, 12, 22, 11]\n",
            "Data setelah Quick Sort: [11, 12, 22, 25, 64]\n"
          ]
        }
      ]
    },
    {
      "cell_type": "markdown",
      "source": [
        "# **Tugas Praktikum**"
      ],
      "metadata": {
        "id": "yHE1Q3Inj4jA"
      }
    },
    {
      "cell_type": "markdown",
      "source": [
        "## **Tugas 1 | Optimasi Pencarian Produk di Marketplace**"
      ],
      "metadata": {
        "id": "JrWcY8kaj77r"
      }
    },
    {
      "cell_type": "code",
      "source": [
        "import os\n",
        "import pandas as pd\n",
        "from tabulate import tabulate\n",
        "\n",
        "def bubble_sort(products, descending=False):\n",
        "    n = len(products)\n",
        "    for i in range(n - 1):\n",
        "        for j in range(n - i - 1):\n",
        "            if (products[j][\"Price\"] > products[j + 1][\"Price\"]) == (not descending):\n",
        "                products[j], products[j + 1] = products[j + 1], products[j]\n",
        "\n",
        "def search_products(products, keyword, sort_by):\n",
        "    filtered = [p for p in products if keyword.lower() in p[\"Name\"].lower()]\n",
        "\n",
        "    if sort_by == \"asc\":\n",
        "        bubble_sort(filtered, descending=False)\n",
        "    else:\n",
        "        bubble_sort(filtered, descending=True)\n",
        "\n",
        "    return filtered\n",
        "\n",
        "def display_products(products):\n",
        "    if not products:\n",
        "        print(\"No products found!\\n\")\n",
        "        return\n",
        "    df = pd.DataFrame(products)\n",
        "    df[\"Price\"] = df[\"Price\"].apply(lambda x: f\"${x}\")\n",
        "    df[\"Rating\"] = df[\"Rating\"].apply(lambda x: f\"{x}\")\n",
        "    print(tabulate(df, headers='keys', tablefmt=\"fancy_grid\", showindex=False))\n",
        "\n",
        "def main():\n",
        "    products = [\n",
        "        {\"Brand\": \"Nike\", \"Name\": \"Nike Air Force 1\", \"Price\": 120, \"Rating\": 4.8},\n",
        "        {\"Brand\": \"Adidas\", \"Name\": \"Adidas Ultraboost\", \"Price\": 180, \"Rating\": 4.7},\n",
        "        {\"Brand\": \"Puma\", \"Name\": \"Puma RS-X\", \"Price\": 100, \"Rating\": 4.5},\n",
        "        {\"Brand\": \"New Balance\", \"Name\": \"NB 550\", \"Price\": 150, \"Rating\": 4.6},\n",
        "        {\"Brand\": \"Converse\", \"Name\": \"Converse Chuck 70\", \"Price\": 90, \"Rating\": 4.3},\n",
        "        {\"Brand\": \"Vans\", \"Name\": \"Vans Old Skool\", \"Price\": 80, \"Rating\": 4.4}\n",
        "    ]\n",
        "\n",
        "    while True:\n",
        "        os.system(\"cls\" if os.name == \"nt\" else \"clear\")\n",
        "        print(\"\\n WELCOME TO CLOTHING BRAND MARKETPLACE \\n\")\n",
        "        keyword = input(\"Search for a product: \")\n",
        "        sort_by = input(\"Sort by price (asc/desc): \").strip().lower()\n",
        "\n",
        "        sorted_products = search_products(products, keyword, sort_by)\n",
        "        display_products(sorted_products)\n",
        "\n",
        "        if input(\"\\nSearch again? (y/n): \").strip().lower() != \"y\":\n",
        "            break\n",
        "\n",
        "if __name__ == \"__main__\":\n",
        "    main()"
      ],
      "metadata": {
        "colab": {
          "base_uri": "https://localhost:8080/"
        },
        "id": "hYa2-zwGkJRJ",
        "outputId": "d812a08e-74c3-4d10-8b59-99e6ade5f9a0"
      },
      "execution_count": 8,
      "outputs": [
        {
          "name": "stdout",
          "output_type": "stream",
          "text": [
            "\n",
            " WELCOME TO CLOTHING BRAND MARKETPLACE \n",
            "\n",
            "╒═════════╤══════════════════╤═════════╤══════════╕\n",
            "│ Brand   │ Name             │ Price   │   Rating │\n",
            "╞═════════╪══════════════════╪═════════╪══════════╡\n",
            "│ Nike    │ Nike Air Force 1 │ $120    │      4.8 │\n",
            "╘═════════╧══════════════════╧═════════╧══════════╛\n",
            "\n",
            " WELCOME TO CLOTHING BRAND MARKETPLACE \n",
            "\n",
            "╒═════════════╤═══════════════════╤═════════╤══════════╕\n",
            "│ Brand       │ Name              │ Price   │   Rating │\n",
            "╞═════════════╪═══════════════════╪═════════╪══════════╡\n",
            "│ Vans        │ Vans Old Skool    │ $80     │      4.4 │\n",
            "├─────────────┼───────────────────┼─────────┼──────────┤\n",
            "│ Converse    │ Converse Chuck 70 │ $90     │      4.3 │\n",
            "├─────────────┼───────────────────┼─────────┼──────────┤\n",
            "│ Nike        │ Nike Air Force 1  │ $120    │      4.8 │\n",
            "├─────────────┼───────────────────┼─────────┼──────────┤\n",
            "│ New Balance │ NB 550            │ $150    │      4.6 │\n",
            "╘═════════════╧═══════════════════╧═════════╧══════════╛\n",
            "\n",
            " WELCOME TO CLOTHING BRAND MARKETPLACE \n",
            "\n",
            "╒═════════════╤═══════════════════╤═════════╤══════════╕\n",
            "│ Brand       │ Name              │ Price   │   Rating │\n",
            "╞═════════════╪═══════════════════╪═════════╪══════════╡\n",
            "│ New Balance │ NB 550            │ $150    │      4.6 │\n",
            "├─────────────┼───────────────────┼─────────┼──────────┤\n",
            "│ Nike        │ Nike Air Force 1  │ $120    │      4.8 │\n",
            "├─────────────┼───────────────────┼─────────┼──────────┤\n",
            "│ Converse    │ Converse Chuck 70 │ $90     │      4.3 │\n",
            "├─────────────┼───────────────────┼─────────┼──────────┤\n",
            "│ Vans        │ Vans Old Skool    │ $80     │      4.4 │\n",
            "╘═════════════╧═══════════════════╧═════════╧══════════╛\n",
            "\n",
            "Search again? (y/n): n\n"
          ]
        }
      ]
    }
  ]
}